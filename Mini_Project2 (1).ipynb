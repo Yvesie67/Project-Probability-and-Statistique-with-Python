{
  "nbformat": 4,
  "nbformat_minor": 0,
  "metadata": {
    "colab": {
      "name": "Mini Project2",
      "provenance": [],
      "collapsed_sections": [
        "mNW7YhUuLnIA"
      ]
    },
    "interpreter": {
      "hash": "aee8b7b246df8f9039afb4144a1f6fd8d2ca17a180786b69acc140d282b71a49"
    },
    "kernelspec": {
      "display_name": "Python 3.9.6 64-bit",
      "name": "python3"
    },
    "language_info": {
      "codemirror_mode": {
        "name": "ipython",
        "version": 3
      },
      "file_extension": ".py",
      "mimetype": "text/x-python",
      "name": "python",
      "nbconvert_exporter": "python",
      "pygments_lexer": "ipython3",
      "version": "3.9.6"
    }
  },
  "cells": [
    {
      "cell_type": "code",
      "metadata": {
        "id": "kAbzTtllLnHx"
      },
      "source": [
        "import numpy as np\n",
        "import pandas as pd\n",
        "import matplotlib.pyplot as plt\n",
        "import seaborn as sns\n",
        "import datetime as dt\n",
        "from scipy import stats"
      ],
      "execution_count": null,
      "outputs": []
    },
    {
      "cell_type": "markdown",
      "metadata": {
        "id": "4PEp9NfpLnH8"
      },
      "source": [
        "# Ayiti Analytics Probability and Statistics Project"
      ]
    },
    {
      "cell_type": "markdown",
      "metadata": {
        "id": "-Rz2RW8wLnH-"
      },
      "source": [
        "Use all the files to have a final datasets to have the following columns\n",
        "   <ul>\n",
        "    <li>questid</li>\n",
        "    <li>gender</li>\n",
        "    <li>age (age of applicant)</li>\n",
        "    <li>communeName (use data prep in commune file)</li>\n",
        "    <li>application_date (created at in quest file)</li>\n",
        "    <li>enroll_date (created_at in enroll file)</li>\n",
        "    <li>is_enroll (Yes/No) (use data prep in enroll file)</li>\n",
        "    <li>Education Level</li>\n",
        "   <li>Communication channels(hear_AA1)</li>\n",
        "    <li>Bootcamp Insterest (after_AA)</li>\n",
        "    <li>Payement Date (use ord and transaction files)</li>\n",
        "    <li>Payed (Yes/No)</li>\n",
        "    <li>list Technologies as columns based (use get_dummies)</li>\n",
        "    <li>list  Study domains (use get_dummies)</li>\n",
        "    <li>Job is formal</li>\n",
        "    <li>Have computer at home</li>\n",
        "    <li>Have internet at home</li>\n",
        "    \n",
        "   </ul>\n",
        "   "
      ]
    },
    {
      "cell_type": "code",
      "metadata": {
        "id": "3hfhPJeZMvgi"
      },
      "source": [
        "commune = pd.read_excel(r'commune.xlsx')\n",
        "enroll = pd.read_csv(r'enroll.csv')\n",
        "industry = pd.read_csv(r'industry.csv')\n",
        "ord = pd.read_csv(r'ord.csv')\n",
        "quest = pd.read_csv(r'quest.csv')\n",
        "study_domain = pd.read_csv(r'study_domain.csv')\n",
        "technology = pd.read_csv(r'technology.csv')\n",
        "transaction = pd.read_csv(r'transaction.csv')"
      ],
      "execution_count": null,
      "outputs": []
    },
    {
      "cell_type": "code",
      "metadata": {
        "colab": {
          "base_uri": "https://localhost:8080/",
          "height": 80
        },
        "id": "LbASLVeJOy35",
        "outputId": "472f1789-e4b2-4d2a-f1f2-b0ea5cd0e0c8"
      },
      "source": [
        "commune.head(1)"
      ],
      "execution_count": null,
      "outputs": [
        {
          "output_type": "execute_result",
          "data": {
            "text/html": [
              "<div>\n",
              "<style scoped>\n",
              "    .dataframe tbody tr th:only-of-type {\n",
              "        vertical-align: middle;\n",
              "    }\n",
              "\n",
              "    .dataframe tbody tr th {\n",
              "        vertical-align: top;\n",
              "    }\n",
              "\n",
              "    .dataframe thead th {\n",
              "        text-align: right;\n",
              "    }\n",
              "</style>\n",
              "<table border=\"1\" class=\"dataframe\">\n",
              "  <thead>\n",
              "    <tr style=\"text-align: right;\">\n",
              "      <th></th>\n",
              "      <th>Commune_en</th>\n",
              "      <th>Commune_FR</th>\n",
              "      <th>Commune_Id</th>\n",
              "      <th>Departement</th>\n",
              "      <th>ADM1_PCODE</th>\n",
              "    </tr>\n",
              "  </thead>\n",
              "  <tbody>\n",
              "    <tr>\n",
              "      <th>0</th>\n",
              "      <td>Abricots</td>\n",
              "      <td>Abricots</td>\n",
              "      <td>HT0812</td>\n",
              "      <td>Grande'Anse</td>\n",
              "      <td>HT08</td>\n",
              "    </tr>\n",
              "  </tbody>\n",
              "</table>\n",
              "</div>"
            ],
            "text/plain": [
              "  Commune_en Commune_FR Commune_Id  Departement ADM1_PCODE\n",
              "0   Abricots   Abricots     HT0812  Grande'Anse       HT08"
            ]
          },
          "metadata": {
            "tags": []
          },
          "execution_count": 3
        }
      ]
    },
    {
      "cell_type": "code",
      "metadata": {
        "id": "l9kozPglaqqd"
      },
      "source": [
        "commune.rename(columns = {\"Commune_Id\": \"commune\"}, inplace = True)"
      ],
      "execution_count": null,
      "outputs": []
    },
    {
      "cell_type": "code",
      "metadata": {
        "id": "0nGpkDOmn7vU"
      },
      "source": [
        "commune[\"commune\"] = commune[\"commune\"].str.lower()"
      ],
      "execution_count": null,
      "outputs": []
    },
    {
      "cell_type": "code",
      "metadata": {
        "colab": {
          "base_uri": "https://localhost:8080/",
          "height": 151
        },
        "id": "J00PA48_QfKi",
        "outputId": "dce3cc80-2f42-4918-a3c3-be98399d7708"
      },
      "source": [
        "enroll.head(1)"
      ],
      "execution_count": null,
      "outputs": [
        {
          "output_type": "execute_result",
          "data": {
            "text/html": [
              "<div>\n",
              "<style scoped>\n",
              "    .dataframe tbody tr th:only-of-type {\n",
              "        vertical-align: middle;\n",
              "    }\n",
              "\n",
              "    .dataframe tbody tr th {\n",
              "        vertical-align: top;\n",
              "    }\n",
              "\n",
              "    .dataframe thead th {\n",
              "        text-align: right;\n",
              "    }\n",
              "</style>\n",
              "<table border=\"1\" class=\"dataframe\">\n",
              "  <thead>\n",
              "    <tr style=\"text-align: right;\">\n",
              "      <th></th>\n",
              "      <th>Unnamed: 0</th>\n",
              "      <th>created_at</th>\n",
              "      <th>expiry_date</th>\n",
              "      <th>user_id</th>\n",
              "      <th>course_name</th>\n",
              "      <th>course_id</th>\n",
              "      <th>percentage_completed</th>\n",
              "      <th>completed_at</th>\n",
              "      <th>expired</th>\n",
              "      <th>is_free_trial</th>\n",
              "      <th>completed</th>\n",
              "      <th>started_at</th>\n",
              "      <th>activated_at</th>\n",
              "      <th>updated_at</th>\n",
              "      <th>quest_id</th>\n",
              "    </tr>\n",
              "  </thead>\n",
              "  <tbody>\n",
              "    <tr>\n",
              "      <th>0</th>\n",
              "      <td>0</td>\n",
              "      <td>2020-12-12T06:41:29.844Z</td>\n",
              "      <td>NaN</td>\n",
              "      <td>29816173</td>\n",
              "      <td>Entwodiksyon Nan Syans Done</td>\n",
              "      <td>1047613</td>\n",
              "      <td>0.0</td>\n",
              "      <td>NaN</td>\n",
              "      <td>False</td>\n",
              "      <td>True</td>\n",
              "      <td>False</td>\n",
              "      <td>NaN</td>\n",
              "      <td>NaN</td>\n",
              "      <td>2020-12-12T06:41:29.844Z</td>\n",
              "      <td>NaN</td>\n",
              "    </tr>\n",
              "  </tbody>\n",
              "</table>\n",
              "</div>"
            ],
            "text/plain": [
              "   Unnamed: 0                created_at  ...                updated_at  quest_id\n",
              "0           0  2020-12-12T06:41:29.844Z  ...  2020-12-12T06:41:29.844Z       NaN\n",
              "\n",
              "[1 rows x 15 columns]"
            ]
          },
          "metadata": {
            "tags": []
          },
          "execution_count": 6
        }
      ]
    },
    {
      "cell_type": "code",
      "metadata": {
        "colab": {
          "base_uri": "https://localhost:8080/",
          "height": 80
        },
        "id": "QcQkx-jeQju6",
        "outputId": "3d046b35-dc5f-4060-f287-77baa6815304"
      },
      "source": [
        "industry.head(1)"
      ],
      "execution_count": null,
      "outputs": [
        {
          "output_type": "execute_result",
          "data": {
            "text/html": [
              "<div>\n",
              "<style scoped>\n",
              "    .dataframe tbody tr th:only-of-type {\n",
              "        vertical-align: middle;\n",
              "    }\n",
              "\n",
              "    .dataframe tbody tr th {\n",
              "        vertical-align: top;\n",
              "    }\n",
              "\n",
              "    .dataframe thead th {\n",
              "        text-align: right;\n",
              "    }\n",
              "</style>\n",
              "<table border=\"1\" class=\"dataframe\">\n",
              "  <thead>\n",
              "    <tr style=\"text-align: right;\">\n",
              "      <th></th>\n",
              "      <th>Unnamed: 0</th>\n",
              "      <th>key</th>\n",
              "      <th>values</th>\n",
              "      <th>quest_id</th>\n",
              "    </tr>\n",
              "  </thead>\n",
              "  <tbody>\n",
              "    <tr>\n",
              "      <th>0</th>\n",
              "      <td>0</td>\n",
              "      <td>item1</td>\n",
              "      <td>Finance</td>\n",
              "      <td>905ddcf2-ce95-11eb-9a92-7c67a234f601</td>\n",
              "    </tr>\n",
              "  </tbody>\n",
              "</table>\n",
              "</div>"
            ],
            "text/plain": [
              "   Unnamed: 0    key   values                              quest_id\n",
              "0           0  item1  Finance  905ddcf2-ce95-11eb-9a92-7c67a234f601"
            ]
          },
          "metadata": {
            "tags": []
          },
          "execution_count": 7
        }
      ]
    },
    {
      "cell_type": "code",
      "metadata": {
        "colab": {
          "base_uri": "https://localhost:8080/",
          "height": 168
        },
        "id": "-LWdNoA1Qneg",
        "outputId": "77b37123-f0cb-4b94-ef6b-33b51e2d5c00"
      },
      "source": [
        "ord.head(1)"
      ],
      "execution_count": null,
      "outputs": [
        {
          "output_type": "execute_result",
          "data": {
            "text/html": [
              "<div>\n",
              "<style scoped>\n",
              "    .dataframe tbody tr th:only-of-type {\n",
              "        vertical-align: middle;\n",
              "    }\n",
              "\n",
              "    .dataframe tbody tr th {\n",
              "        vertical-align: top;\n",
              "    }\n",
              "\n",
              "    .dataframe thead th {\n",
              "        text-align: right;\n",
              "    }\n",
              "</style>\n",
              "<table border=\"1\" class=\"dataframe\">\n",
              "  <thead>\n",
              "    <tr style=\"text-align: right;\">\n",
              "      <th></th>\n",
              "      <th>Unnamed: 0</th>\n",
              "      <th>created_at</th>\n",
              "      <th>user_id</th>\n",
              "      <th>product_name</th>\n",
              "      <th>product_id</th>\n",
              "      <th>amount_dollars</th>\n",
              "      <th>amount_cents</th>\n",
              "      <th>subscription</th>\n",
              "      <th>coupon_code</th>\n",
              "      <th>coupon_id</th>\n",
              "      <th>affiliate_referral_code</th>\n",
              "      <th>status</th>\n",
              "      <th>quest_id</th>\n",
              "    </tr>\n",
              "  </thead>\n",
              "  <tbody>\n",
              "    <tr>\n",
              "      <th>0</th>\n",
              "      <td>0</td>\n",
              "      <td>2021-03-14T15:34:35.014Z</td>\n",
              "      <td>41587952</td>\n",
              "      <td>Entwodiksyon Nan Syans Done</td>\n",
              "      <td>1100636</td>\n",
              "      <td>20</td>\n",
              "      <td>2000</td>\n",
              "      <td>False</td>\n",
              "      <td>NaN</td>\n",
              "      <td>NaN</td>\n",
              "      <td>NaN</td>\n",
              "      <td>Complete</td>\n",
              "      <td>906b3c86-ce95-11eb-b6a7-7c67a234f601</td>\n",
              "    </tr>\n",
              "  </tbody>\n",
              "</table>\n",
              "</div>"
            ],
            "text/plain": [
              "   Unnamed: 0  ...                              quest_id\n",
              "0           0  ...  906b3c86-ce95-11eb-b6a7-7c67a234f601\n",
              "\n",
              "[1 rows x 13 columns]"
            ]
          },
          "metadata": {
            "tags": []
          },
          "execution_count": 8
        }
      ]
    },
    {
      "cell_type": "code",
      "metadata": {
        "colab": {
          "base_uri": "https://localhost:8080/",
          "height": 168
        },
        "id": "DYLZMUhqQrhZ",
        "outputId": "cc984cd4-7c64-4ad2-b48d-3f045e5e2596"
      },
      "source": [
        "quest.head(1)"
      ],
      "execution_count": null,
      "outputs": [
        {
          "output_type": "execute_result",
          "data": {
            "text/html": [
              "<div>\n",
              "<style scoped>\n",
              "    .dataframe tbody tr th:only-of-type {\n",
              "        vertical-align: middle;\n",
              "    }\n",
              "\n",
              "    .dataframe tbody tr th {\n",
              "        vertical-align: top;\n",
              "    }\n",
              "\n",
              "    .dataframe thead th {\n",
              "        text-align: right;\n",
              "    }\n",
              "</style>\n",
              "<table border=\"1\" class=\"dataframe\">\n",
              "  <thead>\n",
              "    <tr style=\"text-align: right;\">\n",
              "      <th></th>\n",
              "      <th>Unnamed: 0</th>\n",
              "      <th>gender</th>\n",
              "      <th>dob</th>\n",
              "      <th>commune</th>\n",
              "      <th>created_at</th>\n",
              "      <th>modified_at</th>\n",
              "      <th>department</th>\n",
              "      <th>education_level</th>\n",
              "      <th>university</th>\n",
              "      <th>study_domain</th>\n",
              "      <th>current_employed</th>\n",
              "      <th>formal_sector_job</th>\n",
              "      <th>have_computer_home</th>\n",
              "      <th>internet_at_home</th>\n",
              "      <th>hear_AA_1</th>\n",
              "      <th>after_AA</th>\n",
              "      <th>quest_id</th>\n",
              "    </tr>\n",
              "  </thead>\n",
              "  <tbody>\n",
              "    <tr>\n",
              "      <th>0</th>\n",
              "      <td>0</td>\n",
              "      <td>male</td>\n",
              "      <td>25/08/1998</td>\n",
              "      <td>ht0111</td>\n",
              "      <td>2021-02-14T23:03:52.768400Z</td>\n",
              "      <td>2021-02-14T23:03:52.768462Z</td>\n",
              "      <td>NaN</td>\n",
              "      <td>unknown</td>\n",
              "      <td>unknown</td>\n",
              "      <td>[]</td>\n",
              "      <td>unknown</td>\n",
              "      <td>unknown</td>\n",
              "      <td>unknown</td>\n",
              "      <td>unknown</td>\n",
              "      <td>unknown</td>\n",
              "      <td>unknown</td>\n",
              "      <td>905dc006-ce95-11eb-b2f9-7c67a234f601</td>\n",
              "    </tr>\n",
              "  </tbody>\n",
              "</table>\n",
              "</div>"
            ],
            "text/plain": [
              "   Unnamed: 0 gender  ... after_AA                              quest_id\n",
              "0           0   male  ...  unknown  905dc006-ce95-11eb-b2f9-7c67a234f601\n",
              "\n",
              "[1 rows x 17 columns]"
            ]
          },
          "metadata": {
            "tags": []
          },
          "execution_count": 9
        }
      ]
    },
    {
      "cell_type": "code",
      "metadata": {
        "colab": {
          "base_uri": "https://localhost:8080/",
          "height": 80
        },
        "id": "cOqHqNMXQu_4",
        "outputId": "74848ab3-f51b-4963-c9d3-c24126bee95e"
      },
      "source": [
        "study_domain.head(1)"
      ],
      "execution_count": null,
      "outputs": [
        {
          "output_type": "execute_result",
          "data": {
            "text/html": [
              "<div>\n",
              "<style scoped>\n",
              "    .dataframe tbody tr th:only-of-type {\n",
              "        vertical-align: middle;\n",
              "    }\n",
              "\n",
              "    .dataframe tbody tr th {\n",
              "        vertical-align: top;\n",
              "    }\n",
              "\n",
              "    .dataframe thead th {\n",
              "        text-align: right;\n",
              "    }\n",
              "</style>\n",
              "<table border=\"1\" class=\"dataframe\">\n",
              "  <thead>\n",
              "    <tr style=\"text-align: right;\">\n",
              "      <th></th>\n",
              "      <th>Unnamed: 0</th>\n",
              "      <th>key</th>\n",
              "      <th>values</th>\n",
              "      <th>quest_id</th>\n",
              "    </tr>\n",
              "  </thead>\n",
              "  <tbody>\n",
              "    <tr>\n",
              "      <th>0</th>\n",
              "      <td>0</td>\n",
              "      <td>other</td>\n",
              "      <td>other</td>\n",
              "      <td>905ddcf2-ce95-11eb-9a92-7c67a234f601</td>\n",
              "    </tr>\n",
              "  </tbody>\n",
              "</table>\n",
              "</div>"
            ],
            "text/plain": [
              "   Unnamed: 0    key values                              quest_id\n",
              "0           0  other  other  905ddcf2-ce95-11eb-9a92-7c67a234f601"
            ]
          },
          "metadata": {
            "tags": []
          },
          "execution_count": 10
        }
      ]
    },
    {
      "cell_type": "code",
      "metadata": {
        "colab": {
          "base_uri": "https://localhost:8080/",
          "height": 80
        },
        "id": "XKv8-X3YQzVo",
        "outputId": "dd0cb1f1-8467-4a22-d00f-50393e5a6e97"
      },
      "source": [
        "technology.head(1)"
      ],
      "execution_count": null,
      "outputs": [
        {
          "output_type": "execute_result",
          "data": {
            "text/html": [
              "<div>\n",
              "<style scoped>\n",
              "    .dataframe tbody tr th:only-of-type {\n",
              "        vertical-align: middle;\n",
              "    }\n",
              "\n",
              "    .dataframe tbody tr th {\n",
              "        vertical-align: top;\n",
              "    }\n",
              "\n",
              "    .dataframe thead th {\n",
              "        text-align: right;\n",
              "    }\n",
              "</style>\n",
              "<table border=\"1\" class=\"dataframe\">\n",
              "  <thead>\n",
              "    <tr style=\"text-align: right;\">\n",
              "      <th></th>\n",
              "      <th>Unnamed: 0</th>\n",
              "      <th>key</th>\n",
              "      <th>values</th>\n",
              "      <th>quest_id</th>\n",
              "    </tr>\n",
              "  </thead>\n",
              "  <tbody>\n",
              "    <tr>\n",
              "      <th>0</th>\n",
              "      <td>0</td>\n",
              "      <td>item1</td>\n",
              "      <td>R</td>\n",
              "      <td>905ddcf2-ce95-11eb-9a92-7c67a234f601</td>\n",
              "    </tr>\n",
              "  </tbody>\n",
              "</table>\n",
              "</div>"
            ],
            "text/plain": [
              "   Unnamed: 0    key values                              quest_id\n",
              "0           0  item1      R  905ddcf2-ce95-11eb-9a92-7c67a234f601"
            ]
          },
          "metadata": {
            "tags": []
          },
          "execution_count": 11
        }
      ]
    },
    {
      "cell_type": "code",
      "metadata": {
        "colab": {
          "base_uri": "https://localhost:8080/",
          "height": 80
        },
        "id": "rMm8y-QhQ7Rf",
        "outputId": "94526437-7007-4283-d831-37c9dc269ca5"
      },
      "source": [
        "transaction.head(1)"
      ],
      "execution_count": null,
      "outputs": [
        {
          "output_type": "execute_result",
          "data": {
            "text/html": [
              "<div>\n",
              "<style scoped>\n",
              "    .dataframe tbody tr th:only-of-type {\n",
              "        vertical-align: middle;\n",
              "    }\n",
              "\n",
              "    .dataframe tbody tr th {\n",
              "        vertical-align: top;\n",
              "    }\n",
              "\n",
              "    .dataframe thead th {\n",
              "        text-align: right;\n",
              "    }\n",
              "</style>\n",
              "<table border=\"1\" class=\"dataframe\">\n",
              "  <thead>\n",
              "    <tr style=\"text-align: right;\">\n",
              "      <th></th>\n",
              "      <th>Unnamed: 0</th>\n",
              "      <th>created_at</th>\n",
              "      <th>modified_at</th>\n",
              "      <th>user_id</th>\n",
              "      <th>course_id</th>\n",
              "      <th>transaction_id</th>\n",
              "    </tr>\n",
              "  </thead>\n",
              "  <tbody>\n",
              "    <tr>\n",
              "      <th>0</th>\n",
              "      <td>0</td>\n",
              "      <td>2021-03-08T05:08:50.832Z</td>\n",
              "      <td>2021-03-08T05:08:50.832Z</td>\n",
              "      <td>40976440</td>\n",
              "      <td>1047613</td>\n",
              "      <td>4641281952</td>\n",
              "    </tr>\n",
              "  </tbody>\n",
              "</table>\n",
              "</div>"
            ],
            "text/plain": [
              "   Unnamed: 0                created_at  ... course_id  transaction_id\n",
              "0           0  2021-03-08T05:08:50.832Z  ...   1047613      4641281952\n",
              "\n",
              "[1 rows x 6 columns]"
            ]
          },
          "metadata": {
            "tags": []
          },
          "execution_count": 12
        }
      ]
    },
    {
      "cell_type": "code",
      "metadata": {
        "id": "eYvLAwrPPQ5J"
      },
      "source": [
        "def dummies (data):\n",
        "  get_dum = pd.get_dummies(data[['quest_id','values']], columns=['values'],prefix='', prefix_sep='')\n",
        "  return get_dum"
      ],
      "execution_count": null,
      "outputs": []
    },
    {
      "cell_type": "code",
      "metadata": {
        "id": "Pz6_n7DWTiRe"
      },
      "source": [
        "def merging (a,b):\n",
        "  df= pd.merge(left=b, right=b, how=\"left\", on=\"quest_id\")\n",
        "  return df"
      ],
      "execution_count": null,
      "outputs": []
    },
    {
      "cell_type": "code",
      "metadata": {
        "id": "QxuNt8BWQwyB"
      },
      "source": [
        "def group (data):\n",
        "  df = data.groupby('quest_id').sum()\n",
        "  return df"
      ],
      "execution_count": null,
      "outputs": []
    },
    {
      "cell_type": "code",
      "metadata": {
        "id": "KVjg-30lXzVB"
      },
      "source": [
        "technology1 = dummies(technology)"
      ],
      "execution_count": null,
      "outputs": []
    },
    {
      "cell_type": "code",
      "metadata": {
        "id": "GOKCaK4dYT6R"
      },
      "source": [
        "technology2 = group(technology1)"
      ],
      "execution_count": null,
      "outputs": []
    },
    {
      "cell_type": "code",
      "metadata": {
        "id": "eUNcgfURZvuc"
      },
      "source": [
        "study_domain1 = dummies(study_domain)"
      ],
      "execution_count": null,
      "outputs": []
    },
    {
      "cell_type": "code",
      "metadata": {
        "id": "FO3dfSCQaChJ"
      },
      "source": [
        "study_domain2 = group(study_domain1)"
      ],
      "execution_count": null,
      "outputs": []
    },
    {
      "cell_type": "code",
      "metadata": {
        "id": "c6J1L4JLbI_X"
      },
      "source": [
        "industry1 = dummies(industry)"
      ],
      "execution_count": null,
      "outputs": []
    },
    {
      "cell_type": "code",
      "metadata": {
        "id": "6ib_kE2rbkl3"
      },
      "source": [
        "industry2 = group(industry1)"
      ],
      "execution_count": null,
      "outputs": []
    },
    {
      "cell_type": "code",
      "metadata": {
        "colab": {
          "base_uri": "https://localhost:8080/",
          "height": 151
        },
        "id": "swApTjb7dN7o",
        "outputId": "9179965d-7781-46ff-a0bb-6672eb1bc0fc"
      },
      "source": [
        "enroll.head(1)"
      ],
      "execution_count": null,
      "outputs": [
        {
          "output_type": "execute_result",
          "data": {
            "text/html": [
              "<div>\n",
              "<style scoped>\n",
              "    .dataframe tbody tr th:only-of-type {\n",
              "        vertical-align: middle;\n",
              "    }\n",
              "\n",
              "    .dataframe tbody tr th {\n",
              "        vertical-align: top;\n",
              "    }\n",
              "\n",
              "    .dataframe thead th {\n",
              "        text-align: right;\n",
              "    }\n",
              "</style>\n",
              "<table border=\"1\" class=\"dataframe\">\n",
              "  <thead>\n",
              "    <tr style=\"text-align: right;\">\n",
              "      <th></th>\n",
              "      <th>Unnamed: 0</th>\n",
              "      <th>created_at</th>\n",
              "      <th>expiry_date</th>\n",
              "      <th>user_id</th>\n",
              "      <th>course_name</th>\n",
              "      <th>course_id</th>\n",
              "      <th>percentage_completed</th>\n",
              "      <th>completed_at</th>\n",
              "      <th>expired</th>\n",
              "      <th>is_free_trial</th>\n",
              "      <th>completed</th>\n",
              "      <th>started_at</th>\n",
              "      <th>activated_at</th>\n",
              "      <th>updated_at</th>\n",
              "      <th>quest_id</th>\n",
              "    </tr>\n",
              "  </thead>\n",
              "  <tbody>\n",
              "    <tr>\n",
              "      <th>0</th>\n",
              "      <td>0</td>\n",
              "      <td>2020-12-12T06:41:29.844Z</td>\n",
              "      <td>NaN</td>\n",
              "      <td>29816173</td>\n",
              "      <td>Entwodiksyon Nan Syans Done</td>\n",
              "      <td>1047613</td>\n",
              "      <td>0.0</td>\n",
              "      <td>NaN</td>\n",
              "      <td>False</td>\n",
              "      <td>True</td>\n",
              "      <td>False</td>\n",
              "      <td>NaN</td>\n",
              "      <td>NaN</td>\n",
              "      <td>2020-12-12T06:41:29.844Z</td>\n",
              "      <td>NaN</td>\n",
              "    </tr>\n",
              "  </tbody>\n",
              "</table>\n",
              "</div>"
            ],
            "text/plain": [
              "   Unnamed: 0                created_at  ...                updated_at  quest_id\n",
              "0           0  2020-12-12T06:41:29.844Z  ...  2020-12-12T06:41:29.844Z       NaN\n",
              "\n",
              "[1 rows x 15 columns]"
            ]
          },
          "metadata": {
            "tags": []
          },
          "execution_count": 23
        }
      ]
    },
    {
      "cell_type": "code",
      "metadata": {
        "id": "5bqU3Qlrd8j0"
      },
      "source": [
        "quest = quest.drop(['Unnamed: 0','modified_at', 'department', 'university', 'study_domain', 'current_employed'], axis=1)"
      ],
      "execution_count": null,
      "outputs": []
    },
    {
      "cell_type": "code",
      "metadata": {
        "colab": {
          "base_uri": "https://localhost:8080/",
          "height": 459
        },
        "id": "OBf7axg7xHCz",
        "outputId": "6ab0487c-1ba0-4e42-fedf-cf28ec36fac4"
      },
      "source": [
        "quest.head()"
      ],
      "execution_count": null,
      "outputs": [
        {
          "output_type": "execute_result",
          "data": {
            "text/html": [
              "<div>\n",
              "<style scoped>\n",
              "    .dataframe tbody tr th:only-of-type {\n",
              "        vertical-align: middle;\n",
              "    }\n",
              "\n",
              "    .dataframe tbody tr th {\n",
              "        vertical-align: top;\n",
              "    }\n",
              "\n",
              "    .dataframe thead th {\n",
              "        text-align: right;\n",
              "    }\n",
              "</style>\n",
              "<table border=\"1\" class=\"dataframe\">\n",
              "  <thead>\n",
              "    <tr style=\"text-align: right;\">\n",
              "      <th></th>\n",
              "      <th>gender</th>\n",
              "      <th>dob</th>\n",
              "      <th>commune</th>\n",
              "      <th>created_at</th>\n",
              "      <th>education_level</th>\n",
              "      <th>formal_sector_job</th>\n",
              "      <th>have_computer_home</th>\n",
              "      <th>internet_at_home</th>\n",
              "      <th>hear_AA_1</th>\n",
              "      <th>after_AA</th>\n",
              "      <th>quest_id</th>\n",
              "    </tr>\n",
              "  </thead>\n",
              "  <tbody>\n",
              "    <tr>\n",
              "      <th>0</th>\n",
              "      <td>male</td>\n",
              "      <td>25/08/1998</td>\n",
              "      <td>ht0111</td>\n",
              "      <td>2021-02-14T23:03:52.768400Z</td>\n",
              "      <td>unknown</td>\n",
              "      <td>unknown</td>\n",
              "      <td>unknown</td>\n",
              "      <td>unknown</td>\n",
              "      <td>unknown</td>\n",
              "      <td>unknown</td>\n",
              "      <td>905dc006-ce95-11eb-b2f9-7c67a234f601</td>\n",
              "    </tr>\n",
              "    <tr>\n",
              "      <th>1</th>\n",
              "      <td>female</td>\n",
              "      <td>29/09/1996</td>\n",
              "      <td>ht0111</td>\n",
              "      <td>2021-02-16T16:01:10.861844Z</td>\n",
              "      <td>Bachelors (bacc +4)</td>\n",
              "      <td>unknown</td>\n",
              "      <td>Yes</td>\n",
              "      <td>Yes</td>\n",
              "      <td>Friend</td>\n",
              "      <td>Finding a job/internship</td>\n",
              "      <td>905ddcf2-ce95-11eb-9a92-7c67a234f601</td>\n",
              "    </tr>\n",
              "    <tr>\n",
              "      <th>2</th>\n",
              "      <td>male</td>\n",
              "      <td>17/05/1996</td>\n",
              "      <td>ht0111</td>\n",
              "      <td>2021-02-16T16:56:30.579504Z</td>\n",
              "      <td>Bachelors (bacc +4)</td>\n",
              "      <td>unknown</td>\n",
              "      <td>Yes</td>\n",
              "      <td>Yes</td>\n",
              "      <td>Friend</td>\n",
              "      <td>Improving my data analysis skills</td>\n",
              "      <td>905e2608-ce95-11eb-809f-7c67a234f601</td>\n",
              "    </tr>\n",
              "    <tr>\n",
              "      <th>3</th>\n",
              "      <td>male</td>\n",
              "      <td>24/11/1996</td>\n",
              "      <td>ht0111</td>\n",
              "      <td>2021-02-16T16:57:55.754541Z</td>\n",
              "      <td>Bachelors (bacc +4)</td>\n",
              "      <td>unknown</td>\n",
              "      <td>Yes</td>\n",
              "      <td>Yes</td>\n",
              "      <td>ESIH</td>\n",
              "      <td>Improving my data analysis skills</td>\n",
              "      <td>905e4cf5-ce95-11eb-96a9-7c67a234f601</td>\n",
              "    </tr>\n",
              "    <tr>\n",
              "      <th>4</th>\n",
              "      <td>male</td>\n",
              "      <td>20/07/1997</td>\n",
              "      <td>ht0111</td>\n",
              "      <td>2021-02-16T17:05:40.907948Z</td>\n",
              "      <td>High School (16 years)</td>\n",
              "      <td>unknown</td>\n",
              "      <td>Yes</td>\n",
              "      <td>Yes</td>\n",
              "      <td>WhatsApp</td>\n",
              "      <td>Mentorship</td>\n",
              "      <td>905e73fd-ce95-11eb-a7b0-7c67a234f601</td>\n",
              "    </tr>\n",
              "  </tbody>\n",
              "</table>\n",
              "</div>"
            ],
            "text/plain": [
              "   gender  ...                              quest_id\n",
              "0    male  ...  905dc006-ce95-11eb-b2f9-7c67a234f601\n",
              "1  female  ...  905ddcf2-ce95-11eb-9a92-7c67a234f601\n",
              "2    male  ...  905e2608-ce95-11eb-809f-7c67a234f601\n",
              "3    male  ...  905e4cf5-ce95-11eb-96a9-7c67a234f601\n",
              "4    male  ...  905e73fd-ce95-11eb-a7b0-7c67a234f601\n",
              "\n",
              "[5 rows x 11 columns]"
            ]
          },
          "metadata": {
            "tags": []
          },
          "execution_count": 25
        }
      ]
    },
    {
      "cell_type": "code",
      "metadata": {
        "id": "UDfH2ideWrWw"
      },
      "source": [
        "quest.rename(columns={'created_at':'Application date', 'hear_AA_1':'Communication channels', 'after_AA':'Bootcamp Insterest', 'education_level':'Education Level', 'have_computer_home':'Have computer at home', 'internet_at_home':'Have internet at home', 'formal_sector_job':'Job is formal'}, inplace = True)\n",
        "quest['dob'].replace({'3 aout 1977': '3/08/1977'}, inplace = True)\n",
        "quest['dob'] = pd.to_datetime(quest['dob'])"
      ],
      "execution_count": null,
      "outputs": []
    },
    {
      "cell_type": "code",
      "metadata": {
        "id": "AZAmEjXvwQ1m"
      },
      "source": [
        "def takeDate(x):\n",
        "  x = x.str[:10]\n",
        "  return pd.to_datetime(x)\n",
        "\n",
        "quest['Application date'] = takeDate(quest['Application date'])"
      ],
      "execution_count": null,
      "outputs": []
    },
    {
      "cell_type": "code",
      "metadata": {
        "id": "LNUvzEQHYgzu"
      },
      "source": [
        "quest['age'] = ((quest['Application date']-quest['dob'])//365)"
      ],
      "execution_count": null,
      "outputs": []
    },
    {
      "cell_type": "code",
      "metadata": {
        "id": "3iY55zHcE5sl"
      },
      "source": [
        "ma = np.mean(quest['age'])\n",
        "ma\n",
        "quest['age'].fillna(ma, inplace = True)"
      ],
      "execution_count": null,
      "outputs": []
    },
    {
      "cell_type": "code",
      "metadata": {
        "id": "2dOJ8QdZulWc"
      },
      "source": [
        "def convAge(x):\n",
        "   x = int(x)\n",
        "   return x\n",
        "\n",
        "quest['age'] = quest['age'].apply(lambda x: convAge(str(x) [:2]))"
      ],
      "execution_count": null,
      "outputs": []
    },
    {
      "cell_type": "markdown",
      "metadata": {
        "id": "C_UV1Mr2uUDa"
      },
      "source": [
        ""
      ]
    },
    {
      "cell_type": "code",
      "metadata": {
        "id": "gM5qTePiYg53",
        "colab": {
          "base_uri": "https://localhost:8080/"
        },
        "outputId": "508070fe-cbc2-4ae1-9841-81b763b812f2"
      },
      "source": [
        "quest.columns"
      ],
      "execution_count": null,
      "outputs": [
        {
          "output_type": "execute_result",
          "data": {
            "text/plain": [
              "Index(['gender', 'dob', 'commune', 'Application date', 'Education Level',\n",
              "       'Job is formal', 'Have computer at home', 'Have internet at home',\n",
              "       'Communication channels', 'Bootcamp Insterest', 'quest_id', 'age'],\n",
              "      dtype='object')"
            ]
          },
          "metadata": {
            "tags": []
          },
          "execution_count": 32
        }
      ]
    },
    {
      "cell_type": "code",
      "metadata": {
        "id": "cE36_bojf8mL"
      },
      "source": [
        "concat1 = pd.concat((ord, transaction), axis= 0)"
      ],
      "execution_count": null,
      "outputs": []
    },
    {
      "cell_type": "code",
      "metadata": {
        "id": "nKgbaEBsiUne"
      },
      "source": [
        "concat1.rename(columns={'created_at':'Payement date'}, inplace= True)"
      ],
      "execution_count": null,
      "outputs": []
    },
    {
      "cell_type": "code",
      "metadata": {
        "id": "s09LAzd_ttv_",
        "colab": {
          "base_uri": "https://localhost:8080/"
        },
        "outputId": "5c27b753-72b6-45fa-f1dc-d178cdf07997"
      },
      "source": [
        "concat1.columns"
      ],
      "execution_count": null,
      "outputs": [
        {
          "output_type": "execute_result",
          "data": {
            "text/plain": [
              "Index(['Unnamed: 0', 'Payement date', 'user_id', 'product_name', 'product_id',\n",
              "       'amount_dollars', 'amount_cents', 'subscription', 'coupon_code',\n",
              "       'coupon_id', 'affiliate_referral_code', 'status', 'quest_id',\n",
              "       'modified_at', 'course_id', 'transaction_id'],\n",
              "      dtype='object')"
            ]
          },
          "metadata": {
            "tags": []
          },
          "execution_count": 35
        }
      ]
    },
    {
      "cell_type": "code",
      "metadata": {
        "id": "BODDGp2Aj_g1"
      },
      "source": [
        "concat1['Payed'] = 'Yes'\n",
        "enroll['is_enroll'] = 'Yes'"
      ],
      "execution_count": null,
      "outputs": []
    },
    {
      "cell_type": "code",
      "metadata": {
        "id": "BawKnGdm0P5u",
        "colab": {
          "base_uri": "https://localhost:8080/"
        },
        "outputId": "3f67d3e0-76be-40a0-e920-e2472828144a"
      },
      "source": [
        "concat1.columns"
      ],
      "execution_count": null,
      "outputs": [
        {
          "output_type": "execute_result",
          "data": {
            "text/plain": [
              "Index(['Unnamed: 0', 'Payement date', 'user_id', 'product_name', 'product_id',\n",
              "       'amount_dollars', 'amount_cents', 'subscription', 'coupon_code',\n",
              "       'coupon_id', 'affiliate_referral_code', 'status', 'quest_id',\n",
              "       'modified_at', 'course_id', 'transaction_id', 'Payed'],\n",
              "      dtype='object')"
            ]
          },
          "metadata": {
            "tags": []
          },
          "execution_count": 37
        }
      ]
    },
    {
      "cell_type": "code",
      "metadata": {
        "id": "DakUQ_TN4Oyz"
      },
      "source": [
        "enroll.rename(columns = {'created_at': 'Enroll date'}, inplace= True)\n",
        "enroll['is_enroll'] = np.where(enroll['Enroll date'].isna(), 'No', 'Yes')\n",
        "enroll = enroll[['Enroll date','is_enroll','quest_id', \"user_id\"]]"
      ],
      "execution_count": null,
      "outputs": []
    },
    {
      "cell_type": "code",
      "metadata": {
        "id": "7QaalRhalff3"
      },
      "source": [
        "df= pd.merge( left= enroll, right= concat1[['Payement date', 'user_id','quest_id','Payed',]], how= 'left', on= 'user_id')"
      ],
      "execution_count": null,
      "outputs": []
    },
    {
      "cell_type": "code",
      "metadata": {
        "id": "hTLg0qzq6lgw"
      },
      "source": [
        "df['is_enroll']= df['is_enroll'].fillna('No')\n",
        "df['Payed']= df['Payed'].fillna('No')"
      ],
      "execution_count": null,
      "outputs": []
    },
    {
      "cell_type": "code",
      "metadata": {
        "id": "lahh33AuEmwX"
      },
      "source": [
        "df.rename(columns={\"quest_id_x\": \"quest_id\"}, inplace=True)"
      ],
      "execution_count": null,
      "outputs": []
    },
    {
      "cell_type": "code",
      "metadata": {
        "id": "NrqJJNkSpAdW"
      },
      "source": [
        "df1 = pd.merge(left= quest, right= df, how= 'left', on= 'quest_id')"
      ],
      "execution_count": null,
      "outputs": []
    },
    {
      "cell_type": "code",
      "metadata": {
        "id": "wF3B3fFPp0S2",
        "colab": {
          "base_uri": "https://localhost:8080/"
        },
        "outputId": "65a8f4e9-d064-4d14-fa6d-33f8c699a0b3"
      },
      "source": [
        "df1.columns\n"
      ],
      "execution_count": null,
      "outputs": [
        {
          "output_type": "execute_result",
          "data": {
            "text/plain": [
              "Index(['gender', 'dob', 'commune', 'Application date', 'Education Level',\n",
              "       'Job is formal', 'Have computer at home', 'Have internet at home',\n",
              "       'Communication channels', 'Bootcamp Insterest', 'quest_id', 'age',\n",
              "       'Enroll date', 'is_enroll', 'user_id', 'Payement date', 'quest_id_y',\n",
              "       'Payed'],\n",
              "      dtype='object')"
            ]
          },
          "metadata": {
            "tags": []
          },
          "execution_count": 45
        }
      ]
    },
    {
      "cell_type": "code",
      "metadata": {
        "colab": {
          "base_uri": "https://localhost:8080/"
        },
        "id": "Kasgx6wdvvOH",
        "outputId": "730b738c-9a77-434f-d563-5063925f6567"
      },
      "source": [
        "quest.columns"
      ],
      "execution_count": null,
      "outputs": [
        {
          "output_type": "execute_result",
          "data": {
            "text/plain": [
              "Index(['gender', 'dob', 'commune', 'Application date', 'Education Level',\n",
              "       'Job is formal', 'Have computer at home', 'Have internet at home',\n",
              "       'Communication channels', 'Bootcamp Insterest', 'quest_id', 'age'],\n",
              "      dtype='object')"
            ]
          },
          "metadata": {
            "tags": []
          },
          "execution_count": 46
        }
      ]
    },
    {
      "cell_type": "code",
      "metadata": {
        "id": "wRfx3cvmvG-2"
      },
      "source": [
        "df2 = pd.merge(left = df1, right = study_domain2, how= 'left', on= 'quest_id')"
      ],
      "execution_count": null,
      "outputs": []
    },
    {
      "cell_type": "code",
      "metadata": {
        "id": "qaepLygJPpv0",
        "colab": {
          "base_uri": "https://localhost:8080/",
          "height": 450
        },
        "outputId": "24483cb6-ae7a-4cc7-ee4f-a00adc24e269"
      },
      "source": [
        "study_domain2"
      ],
      "execution_count": null,
      "outputs": [
        {
          "output_type": "execute_result",
          "data": {
            "text/html": [
              "<div>\n",
              "<style scoped>\n",
              "    .dataframe tbody tr th:only-of-type {\n",
              "        vertical-align: middle;\n",
              "    }\n",
              "\n",
              "    .dataframe tbody tr th {\n",
              "        vertical-align: top;\n",
              "    }\n",
              "\n",
              "    .dataframe thead th {\n",
              "        text-align: right;\n",
              "    }\n",
              "</style>\n",
              "<table border=\"1\" class=\"dataframe\">\n",
              "  <thead>\n",
              "    <tr style=\"text-align: right;\">\n",
              "      <th></th>\n",
              "      <th>Accounting</th>\n",
              "      <th>Computer Science</th>\n",
              "      <th>Economics</th>\n",
              "      <th>Electrical Engineering</th>\n",
              "      <th>Law</th>\n",
              "      <th>Management</th>\n",
              "      <th>Medicine</th>\n",
              "      <th>Statistics</th>\n",
              "      <th>other</th>\n",
              "    </tr>\n",
              "    <tr>\n",
              "      <th>quest_id</th>\n",
              "      <th></th>\n",
              "      <th></th>\n",
              "      <th></th>\n",
              "      <th></th>\n",
              "      <th></th>\n",
              "      <th></th>\n",
              "      <th></th>\n",
              "      <th></th>\n",
              "      <th></th>\n",
              "    </tr>\n",
              "  </thead>\n",
              "  <tbody>\n",
              "    <tr>\n",
              "      <th>905ddcf2-ce95-11eb-9a92-7c67a234f601</th>\n",
              "      <td>0</td>\n",
              "      <td>0</td>\n",
              "      <td>0</td>\n",
              "      <td>0</td>\n",
              "      <td>0</td>\n",
              "      <td>0</td>\n",
              "      <td>0</td>\n",
              "      <td>0</td>\n",
              "      <td>1</td>\n",
              "    </tr>\n",
              "    <tr>\n",
              "      <th>905e4cf5-ce95-11eb-96a9-7c67a234f601</th>\n",
              "      <td>0</td>\n",
              "      <td>1</td>\n",
              "      <td>0</td>\n",
              "      <td>0</td>\n",
              "      <td>0</td>\n",
              "      <td>1</td>\n",
              "      <td>0</td>\n",
              "      <td>0</td>\n",
              "      <td>0</td>\n",
              "    </tr>\n",
              "    <tr>\n",
              "      <th>905e73fd-ce95-11eb-a7b0-7c67a234f601</th>\n",
              "      <td>0</td>\n",
              "      <td>0</td>\n",
              "      <td>0</td>\n",
              "      <td>0</td>\n",
              "      <td>0</td>\n",
              "      <td>0</td>\n",
              "      <td>0</td>\n",
              "      <td>0</td>\n",
              "      <td>1</td>\n",
              "    </tr>\n",
              "    <tr>\n",
              "      <th>905e9b27-ce95-11eb-9c37-7c67a234f601</th>\n",
              "      <td>0</td>\n",
              "      <td>0</td>\n",
              "      <td>0</td>\n",
              "      <td>0</td>\n",
              "      <td>0</td>\n",
              "      <td>0</td>\n",
              "      <td>0</td>\n",
              "      <td>0</td>\n",
              "      <td>1</td>\n",
              "    </tr>\n",
              "    <tr>\n",
              "      <th>905ec1ec-ce95-11eb-8136-7c67a234f601</th>\n",
              "      <td>0</td>\n",
              "      <td>1</td>\n",
              "      <td>0</td>\n",
              "      <td>0</td>\n",
              "      <td>0</td>\n",
              "      <td>0</td>\n",
              "      <td>0</td>\n",
              "      <td>0</td>\n",
              "      <td>0</td>\n",
              "    </tr>\n",
              "    <tr>\n",
              "      <th>...</th>\n",
              "      <td>...</td>\n",
              "      <td>...</td>\n",
              "      <td>...</td>\n",
              "      <td>...</td>\n",
              "      <td>...</td>\n",
              "      <td>...</td>\n",
              "      <td>...</td>\n",
              "      <td>...</td>\n",
              "      <td>...</td>\n",
              "    </tr>\n",
              "    <tr>\n",
              "      <th>906b3c84-ce95-11eb-8c2a-7c67a234f601</th>\n",
              "      <td>0</td>\n",
              "      <td>0</td>\n",
              "      <td>0</td>\n",
              "      <td>0</td>\n",
              "      <td>0</td>\n",
              "      <td>0</td>\n",
              "      <td>0</td>\n",
              "      <td>0</td>\n",
              "      <td>1</td>\n",
              "    </tr>\n",
              "    <tr>\n",
              "      <th>906b3c85-ce95-11eb-9b87-7c67a234f601</th>\n",
              "      <td>0</td>\n",
              "      <td>0</td>\n",
              "      <td>0</td>\n",
              "      <td>0</td>\n",
              "      <td>0</td>\n",
              "      <td>0</td>\n",
              "      <td>1</td>\n",
              "      <td>0</td>\n",
              "      <td>0</td>\n",
              "    </tr>\n",
              "    <tr>\n",
              "      <th>906b3c86-ce95-11eb-b6a7-7c67a234f601</th>\n",
              "      <td>0</td>\n",
              "      <td>0</td>\n",
              "      <td>0</td>\n",
              "      <td>0</td>\n",
              "      <td>0</td>\n",
              "      <td>0</td>\n",
              "      <td>0</td>\n",
              "      <td>1</td>\n",
              "      <td>0</td>\n",
              "    </tr>\n",
              "    <tr>\n",
              "      <th>906b65e2-ce95-11eb-8b5c-7c67a234f601</th>\n",
              "      <td>0</td>\n",
              "      <td>1</td>\n",
              "      <td>0</td>\n",
              "      <td>0</td>\n",
              "      <td>0</td>\n",
              "      <td>0</td>\n",
              "      <td>0</td>\n",
              "      <td>0</td>\n",
              "      <td>0</td>\n",
              "    </tr>\n",
              "    <tr>\n",
              "      <th>906b65e3-ce95-11eb-a294-7c67a234f601</th>\n",
              "      <td>0</td>\n",
              "      <td>0</td>\n",
              "      <td>0</td>\n",
              "      <td>0</td>\n",
              "      <td>0</td>\n",
              "      <td>0</td>\n",
              "      <td>0</td>\n",
              "      <td>0</td>\n",
              "      <td>1</td>\n",
              "    </tr>\n",
              "  </tbody>\n",
              "</table>\n",
              "<p>244 rows × 9 columns</p>\n",
              "</div>"
            ],
            "text/plain": [
              "                                      Accounting  ...  other\n",
              "quest_id                                          ...       \n",
              "905ddcf2-ce95-11eb-9a92-7c67a234f601           0  ...      1\n",
              "905e4cf5-ce95-11eb-96a9-7c67a234f601           0  ...      0\n",
              "905e73fd-ce95-11eb-a7b0-7c67a234f601           0  ...      1\n",
              "905e9b27-ce95-11eb-9c37-7c67a234f601           0  ...      1\n",
              "905ec1ec-ce95-11eb-8136-7c67a234f601           0  ...      0\n",
              "...                                          ...  ...    ...\n",
              "906b3c84-ce95-11eb-8c2a-7c67a234f601           0  ...      1\n",
              "906b3c85-ce95-11eb-9b87-7c67a234f601           0  ...      0\n",
              "906b3c86-ce95-11eb-b6a7-7c67a234f601           0  ...      0\n",
              "906b65e2-ce95-11eb-8b5c-7c67a234f601           0  ...      0\n",
              "906b65e3-ce95-11eb-a294-7c67a234f601           0  ...      1\n",
              "\n",
              "[244 rows x 9 columns]"
            ]
          },
          "metadata": {
            "tags": []
          },
          "execution_count": 48
        }
      ]
    },
    {
      "cell_type": "code",
      "metadata": {
        "id": "ScS75cM5v9fv"
      },
      "source": [
        "df3 = pd.merge(left= df2, right= technology2, how= 'left', on= 'quest_id')"
      ],
      "execution_count": null,
      "outputs": []
    },
    {
      "cell_type": "code",
      "metadata": {
        "id": "fl1md9D95hEz"
      },
      "source": [
        "df4 = pd.merge(left= df3, right= commune[['Commune_FR', 'Departement', 'commune']], how='left', on='commune')"
      ],
      "execution_count": null,
      "outputs": []
    },
    {
      "cell_type": "code",
      "metadata": {
        "id": "mJNJZwBy2jxm",
        "colab": {
          "base_uri": "https://localhost:8080/"
        },
        "outputId": "c41342bf-35dd-4aa4-9057-55a3dd8f1eff"
      },
      "source": [
        "df4.columns"
      ],
      "execution_count": null,
      "outputs": [
        {
          "output_type": "execute_result",
          "data": {
            "text/plain": [
              "Index(['gender', 'dob', 'commune', 'Application date', 'Education Level',\n",
              "       'Job is formal', 'Have computer at home', 'Have internet at home',\n",
              "       'Communication channels', 'Bootcamp Insterest', 'quest_id', 'age',\n",
              "       'Enroll date', 'is_enroll', 'user_id', 'Payement date', 'quest_id_y',\n",
              "       'Payed', 'Accounting', 'Computer Science', 'Economics',\n",
              "       'Electrical Engineering', 'Law', 'Management', 'Medicine', 'Statistics',\n",
              "       'other_x', 'Bash', 'Excel', 'Git', 'Java', 'JavaScript', 'PHP',\n",
              "       'PowerBI or Tableau', 'Python', 'R', 'SQL', 'VBA', 'other_y',\n",
              "       'Commune_FR', 'Departement'],\n",
              "      dtype='object')"
            ]
          },
          "metadata": {
            "tags": []
          },
          "execution_count": 51
        }
      ]
    },
    {
      "cell_type": "code",
      "metadata": {
        "id": "P4SW6BMF_b1I",
        "colab": {
          "base_uri": "https://localhost:8080/"
        },
        "outputId": "e0322d5c-f30b-4277-8843-8d00b34b7cbd"
      },
      "source": [
        "df4.shape"
      ],
      "execution_count": null,
      "outputs": [
        {
          "output_type": "execute_result",
          "data": {
            "text/plain": [
              "(250, 41)"
            ]
          },
          "metadata": {
            "tags": []
          },
          "execution_count": 52
        }
      ]
    },
    {
      "cell_type": "code",
      "metadata": {
        "id": "fYOH9CjsPFNi"
      },
      "source": [
        "df4 = df4.drop(['quest_id_y', 'Departement', 'Commune_FR','user_id'], axis= 1)"
      ],
      "execution_count": null,
      "outputs": []
    },
    {
      "cell_type": "code",
      "metadata": {
        "id": "G-AXZGPnTIjv",
        "colab": {
          "base_uri": "https://localhost:8080/"
        },
        "outputId": "e77f603f-6e8e-4ced-fcff-d40170a2f0fa"
      },
      "source": [
        "df4.shape"
      ],
      "execution_count": null,
      "outputs": [
        {
          "output_type": "execute_result",
          "data": {
            "text/plain": [
              "(250, 37)"
            ]
          },
          "metadata": {
            "tags": []
          },
          "execution_count": 54
        }
      ]
    },
    {
      "cell_type": "markdown",
      "metadata": {
        "id": "mNW7YhUuLnIA"
      },
      "source": [
        "###  1. How many observations and variables are there in the dataset\n",
        " "
      ]
    },
    {
      "cell_type": "code",
      "metadata": {
        "id": "ZNfEp2lwLnIH",
        "colab": {
          "base_uri": "https://localhost:8080/"
        },
        "outputId": "36bdc835-2fbd-451e-dbf4-c6d583d0d9c3"
      },
      "source": [
        "# here your codes\n",
        "print(f'The final dataset has {df4.shape[0]} obsevations and {df4.shape[1]} variables.')"
      ],
      "execution_count": null,
      "outputs": [
        {
          "output_type": "stream",
          "text": [
            "The final dataset has 250 obsevations and 37 variables.\n"
          ],
          "name": "stdout"
        }
      ]
    },
    {
      "cell_type": "markdown",
      "metadata": {
        "id": "XyKEzzh9LnIJ"
      },
      "source": [
        "### 2.A Calculate the average age of the observations\n",
        "   * On the whole dataset\n",
        "   * On the whole male dataset\n",
        "   * On all the female dataset\n",
        "### 2.B Calculate \n",
        "   * variance of the whole datatset,male and female\n",
        "   * kurtosis of the whole datatset,male and female\n",
        "   * skewness of the whole datatset,male and female\n",
        "### 2.C Does the age distribution follow a normal distribution \n",
        "   "
      ]
    },
    {
      "cell_type": "code",
      "metadata": {
        "id": "FMyRV31VzIQs",
        "colab": {
          "base_uri": "https://localhost:8080/"
        },
        "outputId": "fde66a9f-bff7-49d1-b90a-81af693c806f"
      },
      "source": [
        "#Average age for the observations\n",
        "total_average = df4['age'].mean()\n",
        "print('The average for the whole dataset is: ', np.round(total_average, 2))\n",
        "average_male= df4[df4['gender'] == 'male']['age'].mean()\n",
        "print('The average for the whole male dataset is: ', np.round(average_male, 2))\n",
        "average_female = df4[df4['gender'] == 'female']['age'].mean()\n",
        "print('The average for the whole female dataset is: ', np.round(average_female, 2))"
      ],
      "execution_count": null,
      "outputs": [
        {
          "output_type": "stream",
          "text": [
            "The average for the whole dataset is:  26.47\n",
            "The average for the whole male dataset is:  26.79\n",
            "The average for the whole female dataset is:  25.11\n"
          ],
          "name": "stdout"
        }
      ]
    },
    {
      "cell_type": "code",
      "metadata": {
        "colab": {
          "base_uri": "https://localhost:8080/"
        },
        "id": "6vD_bfNktblH",
        "outputId": "ec0b0436-c0b3-442f-d9d0-b5eefe838961"
      },
      "source": [
        "#Variance\n",
        "total_variance = df4['age'].var()\n",
        "print('The variance for the whole dataset is: ', np.round(total_variance, 2))\n",
        "variance_male= df4[df4['gender'] == 'male']['age'].var()\n",
        "print('The variance for the whole male dataset is: ', np.round(variance_male, 2))\n",
        "variance_female = df4[df4['gender'] == 'female']['age'].var()\n",
        "print('The variance for the whole female dataset is: ', np.round(variance_female, 2))"
      ],
      "execution_count": null,
      "outputs": [
        {
          "output_type": "stream",
          "text": [
            "The variance for the whole dataset is:  50.88\n",
            "The variance for the whole male dataset is:  49.45\n",
            "The variance for the whole female dataset is:  55.88\n"
          ],
          "name": "stdout"
        }
      ]
    },
    {
      "cell_type": "code",
      "metadata": {
        "colab": {
          "base_uri": "https://localhost:8080/"
        },
        "id": "Qoke216D9Z-u",
        "outputId": "e43a569f-ee30-4f84-863b-da20fc42fddf"
      },
      "source": [
        "#Kurtosis\n",
        "total_kurtosis = df4['age'].kurtosis()\n",
        "print('The kurtosis for the whole dataset is: ', np.round(total_kurtosis, 2))\n",
        "kurtosis_male= df4[df4['gender'] == 'male']['age'].kurtosis()\n",
        "print('The kurtosis for the whole male dataset is: ', np.round(kurtosis_male, 2))\n",
        "kurtosis_female = df4[df4['gender'] == 'female']['age'].kurtosis()\n",
        "print('The kurtosis for the whole female dataset is: ', np.round(kurtosis_female, 2))"
      ],
      "execution_count": null,
      "outputs": [
        {
          "output_type": "stream",
          "text": [
            "The kurtosis for the whole dataset is:  5.21\n",
            "The kurtosis for the whole male dataset is:  5.36\n",
            "The kurtosis for the whole female dataset is:  5.49\n"
          ],
          "name": "stdout"
        }
      ]
    },
    {
      "cell_type": "code",
      "metadata": {
        "colab": {
          "base_uri": "https://localhost:8080/"
        },
        "id": "rTwxXgB_-NK8",
        "outputId": "73c131a6-c341-490c-8d16-52f9a908a404"
      },
      "source": [
        "#Skewness\n",
        "total_skewness = df4['age'].skew()\n",
        "print('The skewness for the whole dataset is: ', np.round(total_skewness, 2))\n",
        "skewness_male= df4[df4['gender'] == 'male']['age'].skew()\n",
        "print('The skewness for the whole male dataset is: ', np.round(skewness_male, 2))\n",
        "skewness_female = df4[df4['gender'] == 'female']['age'].skew()\n",
        "print('The skewness for the whole female dataset is: ', np.round(skewness_female, 2))"
      ],
      "execution_count": null,
      "outputs": [
        {
          "output_type": "stream",
          "text": [
            "The skewness for the whole dataset is:  -0.7\n",
            "The skewness for the whole male dataset is:  -0.66\n",
            "The skewness for the whole female dataset is:  -0.83\n"
          ],
          "name": "stdout"
        }
      ]
    },
    {
      "cell_type": "code",
      "metadata": {
        "colab": {
          "base_uri": "https://localhost:8080/"
        },
        "id": "n0Oz_xJd-6g0",
        "outputId": "2b68283f-ed94-4e9c-d9ef-cce8f81233ac"
      },
      "source": [
        "#Is the age distribution follow a normal distribution\n",
        "from scipy.stats import shapiro\n",
        "norm1 = shapiro(df4['age'])\n",
        "print('For the whole dataset: ', np.round(norm1, 2))\n",
        "norm2 = shapiro(df4[df4['gender'] == 'male']['age'])\n",
        "print('For the whole male dataset: ', np.round(norm2, 2))\n",
        "norm3 = shapiro(df4[df4['gender'] == 'female']['age'])\n",
        "print('For the whole female dataset: ', np.round(norm3, 2))\n",
        "print('The age distribution follow a normal distribution')"
      ],
      "execution_count": null,
      "outputs": [
        {
          "output_type": "stream",
          "text": [
            "For the whole dataset:  [0.85 0.  ]\n",
            "For the whole male dataset:  [0.86 0.  ]\n",
            "For the whole female dataset:  [0.81 0.  ]\n",
            "The age distribution follow a normal distribution\n"
          ],
          "name": "stdout"
        }
      ]
    },
    {
      "cell_type": "markdown",
      "metadata": {
        "id": "PfIhx84TLnIL"
      },
      "source": [
        "### 3.Display the age frequency disbrution\n",
        "   * On the whole dataset\n",
        "   * On the whole male dataset\n",
        "   * On all the female dataset"
      ]
    },
    {
      "cell_type": "code",
      "metadata": {
        "colab": {
          "base_uri": "https://localhost:8080/",
          "height": 420
        },
        "id": "ITY_5EeN8PQR",
        "outputId": "df15451b-f4eb-4ee6-d600-ab78d9e41364"
      },
      "source": [
        "print('For the whole dataset \\n')\n",
        "sns.displot(df4['age'],bins = 20 ,kde = True)"
      ],
      "execution_count": null,
      "outputs": [
        {
          "output_type": "stream",
          "text": [
            "For the whole dataset \n",
            "\n"
          ],
          "name": "stdout"
        },
        {
          "output_type": "execute_result",
          "data": {
            "text/plain": [
              "<seaborn.axisgrid.FacetGrid at 0x7f820b298890>"
            ]
          },
          "metadata": {
            "tags": []
          },
          "execution_count": 118
        },
        {
          "output_type": "display_data",
          "data": {
            "image/png": "[encoded data removed]",
            "text/plain": [
              "<Figure size 360x360 with 1 Axes>"
            ]
          },
          "metadata": {
            "tags": [],
            "needs_background": "light"
          }
        }
      ]
    },
    {
      "cell_type": "code",
      "metadata": {
        "colab": {
          "base_uri": "https://localhost:8080/",
          "height": 420
        },
        "id": "vtqBPBTGDMTJ",
        "outputId": "a75b73d4-6017-43ec-8ca2-d76c3501dbac"
      },
      "source": [
        "print('For the whole male dataset \\n')\n",
        "sns.displot(df4[df4['gender'] == 'male']['age'], bins = 20, kde = True)"
      ],
      "execution_count": null,
      "outputs": [
        {
          "output_type": "stream",
          "text": [
            "For the whole male dataset \n",
            "\n"
          ],
          "name": "stdout"
        },
        {
          "output_type": "execute_result",
          "data": {
            "text/plain": [
              "<seaborn.axisgrid.FacetGrid at 0x7f820b21d210>"
            ]
          },
          "metadata": {
            "tags": []
          },
          "execution_count": 119
        },
        {
          "output_type": "display_data",
          "data": {
            "image/png": "[encoded data removed]",
            "text/plain": [
              "<Figure size 360x360 with 1 Axes>"
            ]
          },
          "metadata": {
            "tags": [],
            "needs_background": "light"
          }
        }
      ]
    },
    {
      "cell_type": "code",
      "metadata": {
        "colab": {
          "base_uri": "https://localhost:8080/",
          "height": 420
        },
        "id": "-_8qJDICDp1o",
        "outputId": "4fd1e837-2598-4991-ea40-7048c63b7e62"
      },
      "source": [
        "print('For the whole female dataset \\n')\n",
        "sns.displot(df4[df4['gender']== 'female']['age'],bins= 30,kde = True)"
      ],
      "execution_count": null,
      "outputs": [
        {
          "output_type": "stream",
          "text": [
            "For the whole female dataset \n",
            "\n"
          ],
          "name": "stdout"
        },
        {
          "output_type": "execute_result",
          "data": {
            "text/plain": [
              "<seaborn.axisgrid.FacetGrid at 0x7f820b137190>"
            ]
          },
          "metadata": {
            "tags": []
          },
          "execution_count": 120
        },
        {
          "output_type": "display_data",
          "data": {
            "image/png": "[encoded data removed]",
            "text/plain": [
              "<Figure size 360x360 with 1 Axes>"
            ]
          },
          "metadata": {
            "tags": [],
            "needs_background": "light"
          }
        }
      ]
    },
    {
      "cell_type": "markdown",
      "metadata": {
        "id": "HtyhwL57LnIN"
      },
      "source": [
        "### 4. Can we say that the average age (24 years old) of the observations can be considered as the average age of the population likely to participate in this bootcamp. Justify your answer"
      ]
    },
    {
      "cell_type": "code",
      "metadata": {
        "id": "07Kem5KBLnIO",
        "colab": {
          "base_uri": "https://localhost:8080/"
        },
        "outputId": "b20e89e9-ec38-4aa4-e570-281e35310d27"
      },
      "source": [
        "#here your codes\n",
        "from scipy.stats import wilcoxon\n",
        "stat, p = wilcoxon(df4.age - 24)\n",
        "print('Statistics=%.2f, p=%.2f' % (stat, p))\n",
        "alpha = 0.05\n",
        "if p > alpha:\n",
        "\tprint(\"ho =24 (Don't reject H0)\")\n",
        "else:\n",
        "\tprint('h1 !=24 (Reject H0)')"
      ],
      "execution_count": null,
      "outputs": [
        {
          "output_type": "stream",
          "text": [
            "Statistics=5520.50, p=0.00\n",
            "h1 !=24 (Reject H0)\n"
          ],
          "name": "stdout"
        }
      ]
    },
    {
      "cell_type": "markdown",
      "metadata": {
        "id": "LSLjjTiHLnIP"
      },
      "source": [
        "### 5. Calculate the average age of participants for each communication channel"
      ]
    },
    {
      "cell_type": "code",
      "metadata": {
        "id": "xaCDsj87LnIQ",
        "colab": {
          "base_uri": "https://localhost:8080/"
        },
        "outputId": "51bc9cb8-eec6-4d2e-e833-e81b5712b516"
      },
      "source": [
        "#here your codes\n",
        "average = df4[['age', 'Communication channels']].groupby('Communication channels').mean()\n",
        "print('Average age of participants for each communication channel')\n",
        "print(average.sort_values('age', axis=0))"
      ],
      "execution_count": null,
      "outputs": [
        {
          "output_type": "stream",
          "text": [
            "Average age of participants for each communication channel\n",
            "                               age\n",
            "Communication channels            \n",
            "unknown                  22.000000\n",
            "ESIH                     23.500000\n",
            "Instagram                24.600000\n",
            "Facebook                 26.050000\n",
            "Bootcamp Alumni          26.285714\n",
            "WhatsApp                 26.515152\n",
            "Friend                   26.567164\n",
            "Ayiti Analytics Website  27.000000\n",
            "other                    28.444444\n",
            "LinkedIn                 29.933333\n"
          ],
          "name": "stdout"
        }
      ]
    },
    {
      "cell_type": "markdown",
      "metadata": {
        "id": "X3n_HaB8LnIR"
      },
      "source": [
        "### 6. Display an age boxplot for each communication channel"
      ]
    },
    {
      "cell_type": "code",
      "metadata": {
        "id": "nQQS7yp1LnIT",
        "colab": {
          "base_uri": "https://localhost:8080/",
          "height": 421
        },
        "outputId": "9b8a6df2-01e5-4306-d716-0b60eebc6e39"
      },
      "source": [
        "#here your codes\n",
        "plt.figure(figsize =(13,6))\n",
        "sns.boxplot(data = df4, x =\"Communication channels\", y =\"age\")\n",
        "plt.title('Communication channels')"
      ],
      "execution_count": null,
      "outputs": [
        {
          "output_type": "execute_result",
          "data": {
            "text/plain": [
              "Text(0.5, 1.0, 'Communication channels')"
            ]
          },
          "metadata": {
            "tags": []
          },
          "execution_count": 131
        },
        {
          "output_type": "display_data",
          "data": {
            "image/png": "[encoded data removed]",
            "text/plain": [
              "<Figure size 936x432 with 1 Axes>"
            ]
          },
          "metadata": {
            "tags": [],
            "needs_background": "light"
          }
        }
      ]
    },
    {
      "cell_type": "markdown",
      "metadata": {
        "id": "UYHLMbfMLnIU"
      },
      "source": [
        "### 7 .Is there a significant age difference between these groups"
      ]
    },
    {
      "cell_type": "code",
      "metadata": {
        "id": "zcFc08slLnIU"
      },
      "source": [
        "#here your codes\n",
        "unknown_channel = df4[df4['Communication channels'] == 'unknown']['age'].values\n",
        "facebook_channel = df4[df4['Communication channels'] == 'Facebook']['age'].values\n",
        "friend_channel = df4[df4['Communication channels'] == 'Friend']['age'].values\n",
        "esih_channel = df4[df4['Communication channels'] == 'ESIH']['age'].values\n",
        "whatsapp_channel = df4[df4['Communication channels'] == 'WhatsApp']['age'].values\n",
        "bootcamp_channel = df4[df4['Communication channels'] == 'Bootcamp Alumni']['age'].values\n",
        "linkedly_channel = df4[df4['Communication channels'] == 'LinkedIn']['age'].values\n",
        "analytic_channel = df4[df4['Communication channels'] == 'Ayiti Analytics Website']['age'].values\n",
        "other_chanel = df4[df4['Communication channels'] == 'other']['age'].values\n",
        "instagram = df4[df4['Communication channels'] == 'Instagram']['age'].values"
      ],
      "execution_count": null,
      "outputs": []
    },
    {
      "cell_type": "code",
      "metadata": {
        "id": "XgdgrxLUJKOQ"
      },
      "source": [
        "Channels=unknown_channel,facebook_channel,friend_channel,esih_channel,whatsapp_channel,bootcamp_channel,linkedly_channel,analytic_channel,other_chanel,instagram"
      ],
      "execution_count": null,
      "outputs": []
    },
    {
      "cell_type": "code",
      "metadata": {
        "colab": {
          "base_uri": "https://localhost:8080/"
        },
        "id": "ZIqDId6IGCeK",
        "outputId": "4645e2c6-6653-420c-d0ff-4d2cb6aacddc"
      },
      "source": [
        "unknown_channel"
      ],
      "execution_count": null,
      "outputs": [
        {
          "output_type": "execute_result",
          "data": {
            "text/plain": [
              "array([22])"
            ]
          },
          "metadata": {
            "tags": []
          },
          "execution_count": 70
        }
      ]
    },
    {
      "cell_type": "code",
      "metadata": {
        "colab": {
          "base_uri": "https://localhost:8080/"
        },
        "id": "S2iBe653S8OP",
        "outputId": "e9f6864d-123c-4588-82bf-cd5ecf716c35"
      },
      "source": [
        "unknown_channel.shape"
      ],
      "execution_count": null,
      "outputs": [
        {
          "output_type": "execute_result",
          "data": {
            "text/plain": [
              "(1,)"
            ]
          },
          "metadata": {
            "tags": []
          },
          "execution_count": 71
        }
      ]
    },
    {
      "cell_type": "code",
      "metadata": {
        "colab": {
          "base_uri": "https://localhost:8080/"
        },
        "id": "YogNxAioF_hJ",
        "outputId": "0a2c2cff-7eb0-4f88-b79b-fa33b5f4d051"
      },
      "source": [
        "facebook_channel"
      ],
      "execution_count": null,
      "outputs": [
        {
          "output_type": "execute_result",
          "data": {
            "text/plain": [
              "array([26, 43, 28, 22, 34, 31, 24, 33, 25, 23, 40, 24, 28, 21, 24, 30, 20,\n",
              "       26, 30, 23, 24, 26, 30, 25, 33, 30, 28, 21, -1, 21, 32, -1, 24, 25,\n",
              "       29, 34, 25, 27, 28, 27])"
            ]
          },
          "metadata": {
            "tags": []
          },
          "execution_count": 72
        }
      ]
    },
    {
      "cell_type": "code",
      "metadata": {
        "colab": {
          "base_uri": "https://localhost:8080/"
        },
        "id": "7dLHWFwbS5Fu",
        "outputId": "84ddca6d-f8b3-443f-8148-5dae97d91c56"
      },
      "source": [
        "facebook_channel.shape"
      ],
      "execution_count": null,
      "outputs": [
        {
          "output_type": "execute_result",
          "data": {
            "text/plain": [
              "(40,)"
            ]
          },
          "metadata": {
            "tags": []
          },
          "execution_count": 73
        }
      ]
    },
    {
      "cell_type": "code",
      "metadata": {
        "colab": {
          "base_uri": "https://localhost:8080/"
        },
        "id": "l1p3cc56F6bs",
        "outputId": "bd629866-e13d-429a-88a8-5b7fba005bd4"
      },
      "source": [
        "friend_channel"
      ],
      "execution_count": null,
      "outputs": [
        {
          "output_type": "execute_result",
          "data": {
            "text/plain": [
              "array([24, 24, 28, 22, 44, 32, 20, 22, 31, 25, 20, 18, 24, 26, 23, 22, 22,\n",
              "       26, 25, 37, 31, 24, 29, 26, -1, 22, 29, 29, 24, 26, 22, 32, 26, 24,\n",
              "       26, 30, 39, 26, 28, 24, 29, 24, 28, 25, 24, 20, 38, 25, 28, 25, 25,\n",
              "       27, 23, 45, 28, 28, 23, 23, 25, 24, 21, 29, 35, 33, 37, 30, 27])"
            ]
          },
          "metadata": {
            "tags": []
          },
          "execution_count": 74
        }
      ]
    },
    {
      "cell_type": "code",
      "metadata": {
        "colab": {
          "base_uri": "https://localhost:8080/"
        },
        "id": "6MjOx30SSgBy",
        "outputId": "cf1f68db-b189-4aca-be54-8b64781c9d35"
      },
      "source": [
        "friend_channel.shape"
      ],
      "execution_count": null,
      "outputs": [
        {
          "output_type": "execute_result",
          "data": {
            "text/plain": [
              "(67,)"
            ]
          },
          "metadata": {
            "tags": []
          },
          "execution_count": 75
        }
      ]
    },
    {
      "cell_type": "code",
      "metadata": {
        "colab": {
          "base_uri": "https://localhost:8080/"
        },
        "id": "GRT1Z_LnF2T0",
        "outputId": "59e9ab6c-1373-4797-b804-325d411a5caf"
      },
      "source": [
        "esih_channel"
      ],
      "execution_count": null,
      "outputs": [
        {
          "output_type": "execute_result",
          "data": {
            "text/plain": [
              "array([24, 24, 29, 33, 26, 26, 25, 28, 23, 21, 29, 23, 22, 22, 23, 26, 20,\n",
              "       -1])"
            ]
          },
          "metadata": {
            "tags": []
          },
          "execution_count": 76
        }
      ]
    },
    {
      "cell_type": "code",
      "metadata": {
        "colab": {
          "base_uri": "https://localhost:8080/"
        },
        "id": "FKH2fpnZSkP3",
        "outputId": "03acac39-404f-4df1-ddc3-4998c43b9074"
      },
      "source": [
        "esih_channel.shape"
      ],
      "execution_count": null,
      "outputs": [
        {
          "output_type": "execute_result",
          "data": {
            "text/plain": [
              "(18,)"
            ]
          },
          "metadata": {
            "tags": []
          },
          "execution_count": 77
        }
      ]
    },
    {
      "cell_type": "code",
      "metadata": {
        "colab": {
          "base_uri": "https://localhost:8080/"
        },
        "id": "LV_DqGYrFwPL",
        "outputId": "1ba5ee44-4be6-4ab4-8d2d-3288b7125c87"
      },
      "source": [
        "whatsapp_channel"
      ],
      "execution_count": null,
      "outputs": [
        {
          "output_type": "execute_result",
          "data": {
            "text/plain": [
              "array([23, 32, 24, 23, 27, 23, 25, 27, -1, 29, 34, 24, 26, 24, 24, 23, 34,\n",
              "       25, 27, 37, 25, 24, 25, 33, 24, 30, 31, 33, 34, 26, 23, 25, 24, 27,\n",
              "       23, 29, 25, 21, 21, 48, 31, 26, 25,  0, 28, 24, 26, 30, 26, 27,  1,\n",
              "       28, 20, 26, 22, 44, 32, 28, 38, 29, 23, 40, 37, 28, 27, 23])"
            ]
          },
          "metadata": {
            "tags": []
          },
          "execution_count": 78
        }
      ]
    },
    {
      "cell_type": "code",
      "metadata": {
        "colab": {
          "base_uri": "https://localhost:8080/"
        },
        "id": "rH28SqLWSDiL",
        "outputId": "8b635c76-b5b9-4ab5-e59c-0c60e8f99a6a"
      },
      "source": [
        "whatsapp_channel.shape"
      ],
      "execution_count": null,
      "outputs": [
        {
          "output_type": "execute_result",
          "data": {
            "text/plain": [
              "(66,)"
            ]
          },
          "metadata": {
            "tags": []
          },
          "execution_count": 79
        }
      ]
    },
    {
      "cell_type": "code",
      "metadata": {
        "colab": {
          "base_uri": "https://localhost:8080/"
        },
        "id": "esfdXGViFtMK",
        "outputId": "b3c36cc1-153b-4c83-91ca-df4ff75e450b"
      },
      "source": [
        "bootcamp_channel"
      ],
      "execution_count": null,
      "outputs": [
        {
          "output_type": "execute_result",
          "data": {
            "text/plain": [
              "array([26, 26, 25, 23, 28, 23, 23, 31, 26, 23, 29, 26, 32, 27])"
            ]
          },
          "metadata": {
            "tags": []
          },
          "execution_count": 80
        }
      ]
    },
    {
      "cell_type": "code",
      "metadata": {
        "colab": {
          "base_uri": "https://localhost:8080/"
        },
        "id": "n92QMf_1SaDo",
        "outputId": "e9bd2166-4f84-4176-83b8-9358d92411a1"
      },
      "source": [
        "bootcamp_channel.shape"
      ],
      "execution_count": null,
      "outputs": [
        {
          "output_type": "execute_result",
          "data": {
            "text/plain": [
              "(14,)"
            ]
          },
          "metadata": {
            "tags": []
          },
          "execution_count": 81
        }
      ]
    },
    {
      "cell_type": "code",
      "metadata": {
        "colab": {
          "base_uri": "https://localhost:8080/"
        },
        "id": "t-IuFiUsFpP0",
        "outputId": "cdde849e-f01c-4a2a-feab-eee2b01c5cfe"
      },
      "source": [
        "linkedly_channel"
      ],
      "execution_count": null,
      "outputs": [
        {
          "output_type": "execute_result",
          "data": {
            "text/plain": [
              "array([28, 22, 25, 31, 24, 22, 40, 46, 30, 25, 33, 28, 32, 37, 26])"
            ]
          },
          "metadata": {
            "tags": []
          },
          "execution_count": 82
        }
      ]
    },
    {
      "cell_type": "code",
      "metadata": {
        "colab": {
          "base_uri": "https://localhost:8080/"
        },
        "id": "A0_9S8LkSLMg",
        "outputId": "3d0ec79a-f38e-49ee-ab08-19ab494dd320"
      },
      "source": [
        "linkedly_channel.shape"
      ],
      "execution_count": null,
      "outputs": [
        {
          "output_type": "execute_result",
          "data": {
            "text/plain": [
              "(15,)"
            ]
          },
          "metadata": {
            "tags": []
          },
          "execution_count": 83
        }
      ]
    },
    {
      "cell_type": "code",
      "metadata": {
        "colab": {
          "base_uri": "https://localhost:8080/"
        },
        "id": "BFzEW9TbCcq9",
        "outputId": "727807e8-d102-4504-e7f8-5ae4e92ffeaf"
      },
      "source": [
        "instagram.shape"
      ],
      "execution_count": null,
      "outputs": [
        {
          "output_type": "execute_result",
          "data": {
            "text/plain": [
              "(5,)"
            ]
          },
          "metadata": {
            "tags": []
          },
          "execution_count": 84
        }
      ]
    },
    {
      "cell_type": "code",
      "metadata": {
        "colab": {
          "base_uri": "https://localhost:8080/"
        },
        "id": "gVpFalcNFV5e",
        "outputId": "94f8ebbf-efc0-4909-9604-2f525c1111d6"
      },
      "source": [
        "other_chanel"
      ],
      "execution_count": null,
      "outputs": [
        {
          "output_type": "execute_result",
          "data": {
            "text/plain": [
              "array([24, 19, 25, 50, 21, 22, 38, 23, 34])"
            ]
          },
          "metadata": {
            "tags": []
          },
          "execution_count": 85
        }
      ]
    },
    {
      "cell_type": "code",
      "metadata": {
        "colab": {
          "base_uri": "https://localhost:8080/"
        },
        "id": "Tohk3ISfSyrR",
        "outputId": "2fb22c1a-a2d9-48a4-a9f2-0973aed27e32"
      },
      "source": [
        "other_chanel.shape"
      ],
      "execution_count": null,
      "outputs": [
        {
          "output_type": "execute_result",
          "data": {
            "text/plain": [
              "(9,)"
            ]
          },
          "metadata": {
            "tags": []
          },
          "execution_count": 86
        }
      ]
    },
    {
      "cell_type": "code",
      "metadata": {
        "colab": {
          "base_uri": "https://localhost:8080/"
        },
        "id": "WXklU21PHvNk",
        "outputId": "fe60a35d-3b6e-4edc-ea10-7d22c1ad8295"
      },
      "source": [
        "df4[\"Communication channels\"].unique()"
      ],
      "execution_count": null,
      "outputs": [
        {
          "output_type": "execute_result",
          "data": {
            "text/plain": [
              "array(['unknown', 'Friend', 'ESIH', 'WhatsApp', 'Bootcamp Alumni',\n",
              "       'Facebook', 'LinkedIn', 'Ayiti Analytics Website', 'other',\n",
              "       'Instagram'], dtype=object)"
            ]
          },
          "metadata": {
            "tags": []
          },
          "execution_count": 87
        }
      ]
    },
    {
      "cell_type": "code",
      "metadata": {
        "colab": {
          "base_uri": "https://localhost:8080/"
        },
        "id": "cIpX72KUA27J",
        "outputId": "f2f71d1a-b5ea-4b7a-def3-fa34c659ef02"
      },
      "source": [
        "from scipy.stats import f_oneway\n",
        "stat, p = f_oneway(unknown_channel,facebook_channel,friend_channel,esih_channel,whatsapp_channel,bootcamp_channel,linkedly_channel,analytic_channel,other_chanel,instagram)\n",
        "print(p)\n",
        "if p < 0.5:\n",
        "  print('Rejected')\n",
        "else:\n",
        "  print('Accepted')"
      ],
      "execution_count": null,
      "outputs": [
        {
          "output_type": "stream",
          "text": [
            "0.5058273718145292\n",
            "Accepted\n"
          ],
          "name": "stdout"
        }
      ]
    },
    {
      "cell_type": "markdown",
      "metadata": {
        "id": "1qxH0bhwLnIV"
      },
      "source": [
        "### 8.Plan a BA strategy for each communication channel regarding the age group"
      ]
    },
    {
      "cell_type": "code",
      "metadata": {
        "id": "iMWXIpZjLnIW"
      },
      "source": [
        "#here your codes"
      ],
      "execution_count": null,
      "outputs": []
    },
    {
      "cell_type": "markdown",
      "metadata": {
        "id": "zsIB5Gf7WfOv"
      },
      "source": [
        "All the communication channels allow to reach a certain age but not all with the same amount of people. The communication channels that reach the maximum of people are the friends channel and the whasapp channel. Not only do they reach the maximum number of people, but they also reach all age groups that are susceptible. So it would be better to focus on these two channels."
      ]
    },
    {
      "cell_type": "markdown",
      "metadata": {
        "id": "WLkfqHQMLnIW"
      },
      "source": [
        "### 9.According to the observations what is the probability of being in each channel of communication knowing your are a woman"
      ]
    },
    {
      "cell_type": "code",
      "metadata": {
        "colab": {
          "base_uri": "https://localhost:8080/"
        },
        "id": "8htnAg3Wbg0g",
        "outputId": "48574a10-3377-4057-fb99-118655ac56bf"
      },
      "source": [
        "prob= pd.crosstab(df4.gender, df4['Communication channels'] ,margins=True, normalize=\"index\")\n",
        "for col in prob.columns:\n",
        "  print (f\"The probability of {col} knowing you are a woman is {round(prob.at['female',col],2)}\")"
      ],
      "execution_count": null,
      "outputs": [
        {
          "output_type": "stream",
          "text": [
            "The probability of Ayiti Analytics Website knowing you are a woman is 0.09\n",
            "The probability of Bootcamp Alumni knowing you are a woman is 0.17\n",
            "The probability of ESIH knowing you are a woman is 0.11\n",
            "The probability of Facebook knowing you are a woman is 0.13\n",
            "The probability of Friend knowing you are a woman is 0.23\n",
            "The probability of Instagram knowing you are a woman is 0.02\n",
            "The probability of LinkedIn knowing you are a woman is 0.02\n",
            "The probability of WhatsApp knowing you are a woman is 0.19\n",
            "The probability of other knowing you are a woman is 0.04\n",
            "The probability of unknown knowing you are a woman is 0.0\n"
          ],
          "name": "stdout"
        }
      ]
    },
    {
      "cell_type": "code",
      "metadata": {
        "id": "n56c34vOLnIX",
        "colab": {
          "base_uri": "https://localhost:8080/"
        },
        "outputId": "2da841d7-06ba-406e-8e2b-3f4564a0a20b"
      },
      "source": [
        "#here your codes\n",
        "prob = df4[df4['gender'] =='female']['Communication channels']\n",
        "prob.value_counts(normalize=1)"
      ],
      "execution_count": null,
      "outputs": [
        {
          "output_type": "execute_result",
          "data": {
            "text/plain": [
              "Friend                     0.234043\n",
              "WhatsApp                   0.191489\n",
              "Bootcamp Alumni            0.170213\n",
              "Facebook                   0.127660\n",
              "ESIH                       0.106383\n",
              "Ayiti Analytics Website    0.085106\n",
              "other                      0.042553\n",
              "Instagram                  0.021277\n",
              "LinkedIn                   0.021277\n",
              "Name: Communication channels, dtype: float64"
            ]
          },
          "metadata": {
            "tags": []
          },
          "execution_count": 91
        }
      ]
    },
    {
      "cell_type": "markdown",
      "metadata": {
        "id": "k4eX4Ww1LnIX"
      },
      "source": [
        "### 10.According to the observations what is the probability of being in each channel of communication knowing your are a man"
      ]
    },
    {
      "cell_type": "code",
      "metadata": {
        "colab": {
          "base_uri": "https://localhost:8080/"
        },
        "id": "abnpR4fdcQqX",
        "outputId": "876150eb-18e6-4fac-b565-571f9438fa8f"
      },
      "source": [
        "prob= pd.crosstab(df4.gender, df4['Communication channels'] ,margins=True, normalize=\"index\")\n",
        "for col in prob.columns:\n",
        "  print(f\"The probability of {col} knowing you are a man is: {round (prob.at['male',col],2)}\")"
      ],
      "execution_count": null,
      "outputs": [
        {
          "output_type": "stream",
          "text": [
            "The probability of Ayiti Analytics Website knowing you are a man is: 0.05\n",
            "The probability of Bootcamp Alumni knowing you are a man is: 0.03\n",
            "The probability of ESIH knowing you are a man is: 0.06\n",
            "The probability of Facebook knowing you are a man is: 0.17\n",
            "The probability of Friend knowing you are a man is: 0.28\n",
            "The probability of Instagram knowing you are a man is: 0.02\n",
            "The probability of LinkedIn knowing you are a man is: 0.07\n",
            "The probability of WhatsApp knowing you are a man is: 0.28\n",
            "The probability of other knowing you are a man is: 0.03\n",
            "The probability of unknown knowing you are a man is: 0.0\n"
          ],
          "name": "stdout"
        }
      ]
    },
    {
      "cell_type": "code",
      "metadata": {
        "id": "J9MntmJNLnIY",
        "colab": {
          "base_uri": "https://localhost:8080/"
        },
        "outputId": "0fc971ff-c898-433e-f1e8-f7d645f9c2fa"
      },
      "source": [
        "prob = df4[df4['gender'] == 'male']['Communication channels']\n",
        "prob.value_counts(normalize=1)"
      ],
      "execution_count": null,
      "outputs": [
        {
          "output_type": "execute_result",
          "data": {
            "text/plain": [
              "WhatsApp                   0.280788\n",
              "Friend                     0.275862\n",
              "Facebook                   0.167488\n",
              "LinkedIn                   0.068966\n",
              "ESIH                       0.064039\n",
              "Ayiti Analytics Website    0.054187\n",
              "other                      0.034483\n",
              "Bootcamp Alumni            0.029557\n",
              "Instagram                  0.019704\n",
              "unknown                    0.004926\n",
              "Name: Communication channels, dtype: float64"
            ]
          },
          "metadata": {
            "tags": []
          },
          "execution_count": 93
        }
      ]
    },
    {
      "cell_type": "markdown",
      "metadata": {
        "id": "t9rCBhixLnIZ"
      },
      "source": [
        "### 11. Deduce the probability of being a woman knowing each communication channel"
      ]
    },
    {
      "cell_type": "code",
      "metadata": {
        "id": "jF5vJdTwLnIZ",
        "colab": {
          "base_uri": "https://localhost:8080/"
        },
        "outputId": "edf53a0d-6aa9-4e8a-965d-3c60d26eba9b"
      },
      "source": [
        "#here your codes\n",
        "prob2= pd.crosstab(df4.gender,df4['Communication channels'],margins=False,normalize='columns')\n",
        "for col in prob2.columns:\n",
        "  print(f\"The proba of being a woman knowing {col} is :{round(prob2.at['female',col],2)}\")"
      ],
      "execution_count": null,
      "outputs": [
        {
          "output_type": "stream",
          "text": [
            "The proba of being a woman knowing Ayiti Analytics Website is :0.27\n",
            "The proba of being a woman knowing Bootcamp Alumni is :0.57\n",
            "The proba of being a woman knowing ESIH is :0.28\n",
            "The proba of being a woman knowing Facebook is :0.15\n",
            "The proba of being a woman knowing Friend is :0.16\n",
            "The proba of being a woman knowing Instagram is :0.2\n",
            "The proba of being a woman knowing LinkedIn is :0.07\n",
            "The proba of being a woman knowing WhatsApp is :0.14\n",
            "The proba of being a woman knowing other is :0.22\n",
            "The proba of being a woman knowing unknown is :0.0\n"
          ],
          "name": "stdout"
        }
      ]
    },
    {
      "cell_type": "markdown",
      "metadata": {
        "id": "b81HTPt7LnIb"
      },
      "source": [
        "### 14. Deduce the probability of being a man knowing each communication channel"
      ]
    },
    {
      "cell_type": "code",
      "metadata": {
        "id": "Q7qvyRnULnIc",
        "colab": {
          "base_uri": "https://localhost:8080/"
        },
        "outputId": "9e3e6922-eb5d-4eb4-9665-3f49389d8f2a"
      },
      "source": [
        "#here your codes\n",
        "prob3= pd.crosstab(df4.gender,df4['Communication channels'],margins=False,normalize='columns')\n",
        "for col in prob3.columns:\n",
        "  print(f\"The proba of being a man knowing {col} is :{round(prob3.at['male',col],2)}\")"
      ],
      "execution_count": null,
      "outputs": [
        {
          "output_type": "stream",
          "text": [
            "The proba of being a man knowing Ayiti Analytics Website is :0.73\n",
            "The proba of being a man knowing Bootcamp Alumni is :0.43\n",
            "The proba of being a man knowing ESIH is :0.72\n",
            "The proba of being a man knowing Facebook is :0.85\n",
            "The proba of being a man knowing Friend is :0.84\n",
            "The proba of being a man knowing Instagram is :0.8\n",
            "The proba of being a man knowing LinkedIn is :0.93\n",
            "The proba of being a man knowing WhatsApp is :0.86\n",
            "The proba of being a man knowing other is :0.78\n",
            "The proba of being a man knowing unknown is :1.0\n"
          ],
          "name": "stdout"
        }
      ]
    },
    {
      "cell_type": "markdown",
      "metadata": {
        "id": "6UrpnOL9LnIc"
      },
      "source": [
        "### 15 Display a plot to see Gender vs Communication Channels .Is there any dependency between communication channels and gender?"
      ]
    },
    {
      "cell_type": "code",
      "metadata": {
        "id": "LkXamRCgLnId",
        "colab": {
          "base_uri": "https://localhost:8080/"
        },
        "outputId": "657d07bd-09db-4af5-b667-7b0e6571ba42"
      },
      "source": [
        "#here \n",
        "from scipy.stats import chi2_contingency\n",
        "prob4 = pd.pivot_table(df4,'age',index='Communication channels',columns=['Bootcamp Insterest'],aggfunc = ['count'],fill_value=0,margins = True)\n",
        "prob4\n",
        "stat, p, dof,s= chi2_contingency(prob4) \n",
        "print(\"p value: \" + str(p)) \n",
        "if p <= 0.05: \n",
        "    print('Reject') \n",
        "else: \n",
        "    print('Accept')"
      ],
      "execution_count": null,
      "outputs": [
        {
          "output_type": "stream",
          "text": [
            "p value: 1.2931351228431785e-10\n",
            "Reject\n"
          ],
          "name": "stdout"
        }
      ]
    },
    {
      "cell_type": "code",
      "metadata": {
        "colab": {
          "base_uri": "https://localhost:8080/"
        },
        "id": "_n6VLWp6k1Ao",
        "outputId": "6b654cb5-9602-486d-e7cd-b5f61ab1b6a3"
      },
      "source": [
        "stat, p, dof,s= chi2_contingency(prob4) \n",
        "print(\"p value: \" + str(p)) \n",
        "if p <= 0.05: \n",
        "  print('Reject') \n",
        "else: \n",
        "  print('Accept') "
      ],
      "execution_count": null,
      "outputs": [
        {
          "output_type": "stream",
          "text": [
            "p value: 1.2931351228431785e-10\n",
            "Reject\n"
          ],
          "name": "stdout"
        }
      ]
    },
    {
      "cell_type": "code",
      "metadata": {
        "colab": {
          "base_uri": "https://localhost:8080/",
          "height": 256
        },
        "id": "qw2ngM_8oRqS",
        "outputId": "7aa26d24-306b-48d1-f866-f87cdd6aa19e"
      },
      "source": [
        "prob5= pd.pivot_table(data = df4, columns= 'Communication channels', index= 'gender', aggfunc='count', fill_value=0)\n",
        "prob5"
      ],
      "execution_count": null,
      "outputs": [
        {
          "output_type": "execute_result",
          "data": {
            "text/html": [
              "<div>\n",
              "<style scoped>\n",
              "    .dataframe tbody tr th:only-of-type {\n",
              "        vertical-align: middle;\n",
              "    }\n",
              "\n",
              "    .dataframe tbody tr th {\n",
              "        vertical-align: top;\n",
              "    }\n",
              "\n",
              "    .dataframe thead tr th {\n",
              "        text-align: left;\n",
              "    }\n",
              "\n",
              "    .dataframe thead tr:last-of-type th {\n",
              "        text-align: right;\n",
              "    }\n",
              "</style>\n",
              "<table border=\"1\" class=\"dataframe\">\n",
              "  <thead>\n",
              "    <tr>\n",
              "      <th></th>\n",
              "      <th colspan=\"10\" halign=\"left\">Accounting</th>\n",
              "      <th colspan=\"10\" halign=\"left\">Application date</th>\n",
              "      <th colspan=\"10\" halign=\"left\">Bash</th>\n",
              "      <th colspan=\"10\" halign=\"left\">Bootcamp Insterest</th>\n",
              "      <th>...</th>\n",
              "      <th colspan=\"10\" halign=\"left\">is_enroll</th>\n",
              "      <th colspan=\"10\" halign=\"left\">other_x</th>\n",
              "      <th colspan=\"10\" halign=\"left\">other_y</th>\n",
              "      <th colspan=\"10\" halign=\"left\">quest_id</th>\n",
              "    </tr>\n",
              "    <tr>\n",
              "      <th>Communication channels</th>\n",
              "      <th>Ayiti Analytics Website</th>\n",
              "      <th>Bootcamp Alumni</th>\n",
              "      <th>ESIH</th>\n",
              "      <th>Facebook</th>\n",
              "      <th>Friend</th>\n",
              "      <th>Instagram</th>\n",
              "      <th>LinkedIn</th>\n",
              "      <th>WhatsApp</th>\n",
              "      <th>other</th>\n",
              "      <th>unknown</th>\n",
              "      <th>Ayiti Analytics Website</th>\n",
              "      <th>Bootcamp Alumni</th>\n",
              "      <th>ESIH</th>\n",
              "      <th>Facebook</th>\n",
              "      <th>Friend</th>\n",
              "      <th>Instagram</th>\n",
              "      <th>LinkedIn</th>\n",
              "      <th>WhatsApp</th>\n",
              "      <th>other</th>\n",
              "      <th>unknown</th>\n",
              "      <th>Ayiti Analytics Website</th>\n",
              "      <th>Bootcamp Alumni</th>\n",
              "      <th>ESIH</th>\n",
              "      <th>Facebook</th>\n",
              "      <th>Friend</th>\n",
              "      <th>Instagram</th>\n",
              "      <th>LinkedIn</th>\n",
              "      <th>WhatsApp</th>\n",
              "      <th>other</th>\n",
              "      <th>unknown</th>\n",
              "      <th>Ayiti Analytics Website</th>\n",
              "      <th>Bootcamp Alumni</th>\n",
              "      <th>ESIH</th>\n",
              "      <th>Facebook</th>\n",
              "      <th>Friend</th>\n",
              "      <th>Instagram</th>\n",
              "      <th>LinkedIn</th>\n",
              "      <th>WhatsApp</th>\n",
              "      <th>other</th>\n",
              "      <th>unknown</th>\n",
              "      <th>...</th>\n",
              "      <th>Ayiti Analytics Website</th>\n",
              "      <th>Bootcamp Alumni</th>\n",
              "      <th>ESIH</th>\n",
              "      <th>Facebook</th>\n",
              "      <th>Friend</th>\n",
              "      <th>Instagram</th>\n",
              "      <th>LinkedIn</th>\n",
              "      <th>WhatsApp</th>\n",
              "      <th>other</th>\n",
              "      <th>unknown</th>\n",
              "      <th>Ayiti Analytics Website</th>\n",
              "      <th>Bootcamp Alumni</th>\n",
              "      <th>ESIH</th>\n",
              "      <th>Facebook</th>\n",
              "      <th>Friend</th>\n",
              "      <th>Instagram</th>\n",
              "      <th>LinkedIn</th>\n",
              "      <th>WhatsApp</th>\n",
              "      <th>other</th>\n",
              "      <th>unknown</th>\n",
              "      <th>Ayiti Analytics Website</th>\n",
              "      <th>Bootcamp Alumni</th>\n",
              "      <th>ESIH</th>\n",
              "      <th>Facebook</th>\n",
              "      <th>Friend</th>\n",
              "      <th>Instagram</th>\n",
              "      <th>LinkedIn</th>\n",
              "      <th>WhatsApp</th>\n",
              "      <th>other</th>\n",
              "      <th>unknown</th>\n",
              "      <th>Ayiti Analytics Website</th>\n",
              "      <th>Bootcamp Alumni</th>\n",
              "      <th>ESIH</th>\n",
              "      <th>Facebook</th>\n",
              "      <th>Friend</th>\n",
              "      <th>Instagram</th>\n",
              "      <th>LinkedIn</th>\n",
              "      <th>WhatsApp</th>\n",
              "      <th>other</th>\n",
              "      <th>unknown</th>\n",
              "    </tr>\n",
              "    <tr>\n",
              "      <th>gender</th>\n",
              "      <th></th>\n",
              "      <th></th>\n",
              "      <th></th>\n",
              "      <th></th>\n",
              "      <th></th>\n",
              "      <th></th>\n",
              "      <th></th>\n",
              "      <th></th>\n",
              "      <th></th>\n",
              "      <th></th>\n",
              "      <th></th>\n",
              "      <th></th>\n",
              "      <th></th>\n",
              "      <th></th>\n",
              "      <th></th>\n",
              "      <th></th>\n",
              "      <th></th>\n",
              "      <th></th>\n",
              "      <th></th>\n",
              "      <th></th>\n",
              "      <th></th>\n",
              "      <th></th>\n",
              "      <th></th>\n",
              "      <th></th>\n",
              "      <th></th>\n",
              "      <th></th>\n",
              "      <th></th>\n",
              "      <th></th>\n",
              "      <th></th>\n",
              "      <th></th>\n",
              "      <th></th>\n",
              "      <th></th>\n",
              "      <th></th>\n",
              "      <th></th>\n",
              "      <th></th>\n",
              "      <th></th>\n",
              "      <th></th>\n",
              "      <th></th>\n",
              "      <th></th>\n",
              "      <th></th>\n",
              "      <th></th>\n",
              "      <th></th>\n",
              "      <th></th>\n",
              "      <th></th>\n",
              "      <th></th>\n",
              "      <th></th>\n",
              "      <th></th>\n",
              "      <th></th>\n",
              "      <th></th>\n",
              "      <th></th>\n",
              "      <th></th>\n",
              "      <th></th>\n",
              "      <th></th>\n",
              "      <th></th>\n",
              "      <th></th>\n",
              "      <th></th>\n",
              "      <th></th>\n",
              "      <th></th>\n",
              "      <th></th>\n",
              "      <th></th>\n",
              "      <th></th>\n",
              "      <th></th>\n",
              "      <th></th>\n",
              "      <th></th>\n",
              "      <th></th>\n",
              "      <th></th>\n",
              "      <th></th>\n",
              "      <th></th>\n",
              "      <th></th>\n",
              "      <th></th>\n",
              "      <th></th>\n",
              "      <th></th>\n",
              "      <th></th>\n",
              "      <th></th>\n",
              "      <th></th>\n",
              "      <th></th>\n",
              "      <th></th>\n",
              "      <th></th>\n",
              "      <th></th>\n",
              "      <th></th>\n",
              "      <th></th>\n",
              "    </tr>\n",
              "  </thead>\n",
              "  <tbody>\n",
              "    <tr>\n",
              "      <th>female</th>\n",
              "      <td>4</td>\n",
              "      <td>8</td>\n",
              "      <td>5</td>\n",
              "      <td>6</td>\n",
              "      <td>11</td>\n",
              "      <td>1</td>\n",
              "      <td>1</td>\n",
              "      <td>9</td>\n",
              "      <td>2</td>\n",
              "      <td>0</td>\n",
              "      <td>4</td>\n",
              "      <td>8</td>\n",
              "      <td>5</td>\n",
              "      <td>6</td>\n",
              "      <td>11</td>\n",
              "      <td>1</td>\n",
              "      <td>1</td>\n",
              "      <td>9</td>\n",
              "      <td>2</td>\n",
              "      <td>0</td>\n",
              "      <td>4</td>\n",
              "      <td>8</td>\n",
              "      <td>5</td>\n",
              "      <td>6</td>\n",
              "      <td>11</td>\n",
              "      <td>1</td>\n",
              "      <td>1</td>\n",
              "      <td>8</td>\n",
              "      <td>2</td>\n",
              "      <td>0</td>\n",
              "      <td>4</td>\n",
              "      <td>8</td>\n",
              "      <td>5</td>\n",
              "      <td>6</td>\n",
              "      <td>11</td>\n",
              "      <td>1</td>\n",
              "      <td>1</td>\n",
              "      <td>9</td>\n",
              "      <td>2</td>\n",
              "      <td>0</td>\n",
              "      <td>...</td>\n",
              "      <td>0</td>\n",
              "      <td>3</td>\n",
              "      <td>0</td>\n",
              "      <td>5</td>\n",
              "      <td>4</td>\n",
              "      <td>0</td>\n",
              "      <td>1</td>\n",
              "      <td>4</td>\n",
              "      <td>1</td>\n",
              "      <td>0</td>\n",
              "      <td>4</td>\n",
              "      <td>8</td>\n",
              "      <td>5</td>\n",
              "      <td>6</td>\n",
              "      <td>11</td>\n",
              "      <td>1</td>\n",
              "      <td>1</td>\n",
              "      <td>9</td>\n",
              "      <td>2</td>\n",
              "      <td>0</td>\n",
              "      <td>4</td>\n",
              "      <td>8</td>\n",
              "      <td>5</td>\n",
              "      <td>6</td>\n",
              "      <td>11</td>\n",
              "      <td>1</td>\n",
              "      <td>1</td>\n",
              "      <td>8</td>\n",
              "      <td>2</td>\n",
              "      <td>0</td>\n",
              "      <td>4</td>\n",
              "      <td>8</td>\n",
              "      <td>5</td>\n",
              "      <td>6</td>\n",
              "      <td>11</td>\n",
              "      <td>1</td>\n",
              "      <td>1</td>\n",
              "      <td>9</td>\n",
              "      <td>2</td>\n",
              "      <td>0</td>\n",
              "    </tr>\n",
              "    <tr>\n",
              "      <th>male</th>\n",
              "      <td>10</td>\n",
              "      <td>6</td>\n",
              "      <td>12</td>\n",
              "      <td>34</td>\n",
              "      <td>54</td>\n",
              "      <td>4</td>\n",
              "      <td>14</td>\n",
              "      <td>56</td>\n",
              "      <td>7</td>\n",
              "      <td>0</td>\n",
              "      <td>11</td>\n",
              "      <td>6</td>\n",
              "      <td>13</td>\n",
              "      <td>34</td>\n",
              "      <td>56</td>\n",
              "      <td>4</td>\n",
              "      <td>14</td>\n",
              "      <td>57</td>\n",
              "      <td>7</td>\n",
              "      <td>1</td>\n",
              "      <td>11</td>\n",
              "      <td>6</td>\n",
              "      <td>13</td>\n",
              "      <td>32</td>\n",
              "      <td>56</td>\n",
              "      <td>4</td>\n",
              "      <td>14</td>\n",
              "      <td>55</td>\n",
              "      <td>7</td>\n",
              "      <td>0</td>\n",
              "      <td>11</td>\n",
              "      <td>6</td>\n",
              "      <td>13</td>\n",
              "      <td>34</td>\n",
              "      <td>56</td>\n",
              "      <td>4</td>\n",
              "      <td>14</td>\n",
              "      <td>57</td>\n",
              "      <td>7</td>\n",
              "      <td>1</td>\n",
              "      <td>...</td>\n",
              "      <td>4</td>\n",
              "      <td>5</td>\n",
              "      <td>7</td>\n",
              "      <td>11</td>\n",
              "      <td>27</td>\n",
              "      <td>2</td>\n",
              "      <td>6</td>\n",
              "      <td>19</td>\n",
              "      <td>2</td>\n",
              "      <td>1</td>\n",
              "      <td>10</td>\n",
              "      <td>6</td>\n",
              "      <td>12</td>\n",
              "      <td>34</td>\n",
              "      <td>54</td>\n",
              "      <td>4</td>\n",
              "      <td>14</td>\n",
              "      <td>56</td>\n",
              "      <td>7</td>\n",
              "      <td>0</td>\n",
              "      <td>11</td>\n",
              "      <td>6</td>\n",
              "      <td>13</td>\n",
              "      <td>32</td>\n",
              "      <td>56</td>\n",
              "      <td>4</td>\n",
              "      <td>14</td>\n",
              "      <td>55</td>\n",
              "      <td>7</td>\n",
              "      <td>0</td>\n",
              "      <td>11</td>\n",
              "      <td>6</td>\n",
              "      <td>13</td>\n",
              "      <td>34</td>\n",
              "      <td>56</td>\n",
              "      <td>4</td>\n",
              "      <td>14</td>\n",
              "      <td>57</td>\n",
              "      <td>7</td>\n",
              "      <td>1</td>\n",
              "    </tr>\n",
              "  </tbody>\n",
              "</table>\n",
              "<p>2 rows × 350 columns</p>\n",
              "</div>"
            ],
            "text/plain": [
              "                                    Accounting                  ... quest_id        \n",
              "Communication channels Ayiti Analytics Website Bootcamp Alumni  ...    other unknown\n",
              "gender                                                          ...                 \n",
              "female                                       4               8  ...        2       0\n",
              "male                                        10               6  ...        7       1\n",
              "\n",
              "[2 rows x 350 columns]"
            ]
          },
          "metadata": {
            "tags": []
          },
          "execution_count": 122
        }
      ]
    },
    {
      "cell_type": "markdown",
      "metadata": {
        "id": "FeYAjJZTLnIe"
      },
      "source": [
        "### 16 Use the same method to display plot and know if is there any dependency between communication channels and Bootcamp Insterest?"
      ]
    },
    {
      "cell_type": "code",
      "metadata": {
        "id": "4CrdcCicLnIe",
        "colab": {
          "base_uri": "https://localhost:8080/",
          "height": 572
        },
        "outputId": "0b9b6db7-986a-492d-8b3d-8b5eafef82eb"
      },
      "source": [
        "# here your codes\n",
        "display= pd.pivot_table(data = df4, columns= 'Bootcamp Insterest', index= 'Communication channels', aggfunc='count', fill_value=0)\n",
        "display"
      ],
      "execution_count": null,
      "outputs": [
        {
          "output_type": "execute_result",
          "data": {
            "text/html": [
              "<div>\n",
              "<style scoped>\n",
              "    .dataframe tbody tr th:only-of-type {\n",
              "        vertical-align: middle;\n",
              "    }\n",
              "\n",
              "    .dataframe tbody tr th {\n",
              "        vertical-align: top;\n",
              "    }\n",
              "\n",
              "    .dataframe thead tr th {\n",
              "        text-align: left;\n",
              "    }\n",
              "\n",
              "    .dataframe thead tr:last-of-type th {\n",
              "        text-align: right;\n",
              "    }\n",
              "</style>\n",
              "<table border=\"1\" class=\"dataframe\">\n",
              "  <thead>\n",
              "    <tr>\n",
              "      <th></th>\n",
              "      <th colspan=\"7\" halign=\"left\">Accounting</th>\n",
              "      <th colspan=\"7\" halign=\"left\">Application date</th>\n",
              "      <th colspan=\"7\" halign=\"left\">Bash</th>\n",
              "      <th colspan=\"7\" halign=\"left\">Computer Science</th>\n",
              "      <th colspan=\"7\" halign=\"left\">Economics</th>\n",
              "      <th colspan=\"5\" halign=\"left\">Education Level</th>\n",
              "      <th>...</th>\n",
              "      <th colspan=\"5\" halign=\"left\">dob</th>\n",
              "      <th colspan=\"7\" halign=\"left\">gender</th>\n",
              "      <th colspan=\"7\" halign=\"left\">is_enroll</th>\n",
              "      <th colspan=\"7\" halign=\"left\">other_x</th>\n",
              "      <th colspan=\"7\" halign=\"left\">other_y</th>\n",
              "      <th colspan=\"7\" halign=\"left\">quest_id</th>\n",
              "    </tr>\n",
              "    <tr>\n",
              "      <th>Bootcamp Insterest</th>\n",
              "      <th>Finding a job/internship</th>\n",
              "      <th>Improving my data analysis skills</th>\n",
              "      <th>Mentorship</th>\n",
              "      <th>Switching careers</th>\n",
              "      <th>Training to start my own company</th>\n",
              "      <th>other</th>\n",
              "      <th>unknown</th>\n",
              "      <th>Finding a job/internship</th>\n",
              "      <th>Improving my data analysis skills</th>\n",
              "      <th>Mentorship</th>\n",
              "      <th>Switching careers</th>\n",
              "      <th>Training to start my own company</th>\n",
              "      <th>other</th>\n",
              "      <th>unknown</th>\n",
              "      <th>Finding a job/internship</th>\n",
              "      <th>Improving my data analysis skills</th>\n",
              "      <th>Mentorship</th>\n",
              "      <th>Switching careers</th>\n",
              "      <th>Training to start my own company</th>\n",
              "      <th>other</th>\n",
              "      <th>unknown</th>\n",
              "      <th>Finding a job/internship</th>\n",
              "      <th>Improving my data analysis skills</th>\n",
              "      <th>Mentorship</th>\n",
              "      <th>Switching careers</th>\n",
              "      <th>Training to start my own company</th>\n",
              "      <th>other</th>\n",
              "      <th>unknown</th>\n",
              "      <th>Finding a job/internship</th>\n",
              "      <th>Improving my data analysis skills</th>\n",
              "      <th>Mentorship</th>\n",
              "      <th>Switching careers</th>\n",
              "      <th>Training to start my own company</th>\n",
              "      <th>other</th>\n",
              "      <th>unknown</th>\n",
              "      <th>Finding a job/internship</th>\n",
              "      <th>Improving my data analysis skills</th>\n",
              "      <th>Mentorship</th>\n",
              "      <th>Switching careers</th>\n",
              "      <th>Training to start my own company</th>\n",
              "      <th>...</th>\n",
              "      <th>Mentorship</th>\n",
              "      <th>Switching careers</th>\n",
              "      <th>Training to start my own company</th>\n",
              "      <th>other</th>\n",
              "      <th>unknown</th>\n",
              "      <th>Finding a job/internship</th>\n",
              "      <th>Improving my data analysis skills</th>\n",
              "      <th>Mentorship</th>\n",
              "      <th>Switching careers</th>\n",
              "      <th>Training to start my own company</th>\n",
              "      <th>other</th>\n",
              "      <th>unknown</th>\n",
              "      <th>Finding a job/internship</th>\n",
              "      <th>Improving my data analysis skills</th>\n",
              "      <th>Mentorship</th>\n",
              "      <th>Switching careers</th>\n",
              "      <th>Training to start my own company</th>\n",
              "      <th>other</th>\n",
              "      <th>unknown</th>\n",
              "      <th>Finding a job/internship</th>\n",
              "      <th>Improving my data analysis skills</th>\n",
              "      <th>Mentorship</th>\n",
              "      <th>Switching careers</th>\n",
              "      <th>Training to start my own company</th>\n",
              "      <th>other</th>\n",
              "      <th>unknown</th>\n",
              "      <th>Finding a job/internship</th>\n",
              "      <th>Improving my data analysis skills</th>\n",
              "      <th>Mentorship</th>\n",
              "      <th>Switching careers</th>\n",
              "      <th>Training to start my own company</th>\n",
              "      <th>other</th>\n",
              "      <th>unknown</th>\n",
              "      <th>Finding a job/internship</th>\n",
              "      <th>Improving my data analysis skills</th>\n",
              "      <th>Mentorship</th>\n",
              "      <th>Switching careers</th>\n",
              "      <th>Training to start my own company</th>\n",
              "      <th>other</th>\n",
              "      <th>unknown</th>\n",
              "    </tr>\n",
              "    <tr>\n",
              "      <th>Communication channels</th>\n",
              "      <th></th>\n",
              "      <th></th>\n",
              "      <th></th>\n",
              "      <th></th>\n",
              "      <th></th>\n",
              "      <th></th>\n",
              "      <th></th>\n",
              "      <th></th>\n",
              "      <th></th>\n",
              "      <th></th>\n",
              "      <th></th>\n",
              "      <th></th>\n",
              "      <th></th>\n",
              "      <th></th>\n",
              "      <th></th>\n",
              "      <th></th>\n",
              "      <th></th>\n",
              "      <th></th>\n",
              "      <th></th>\n",
              "      <th></th>\n",
              "      <th></th>\n",
              "      <th></th>\n",
              "      <th></th>\n",
              "      <th></th>\n",
              "      <th></th>\n",
              "      <th></th>\n",
              "      <th></th>\n",
              "      <th></th>\n",
              "      <th></th>\n",
              "      <th></th>\n",
              "      <th></th>\n",
              "      <th></th>\n",
              "      <th></th>\n",
              "      <th></th>\n",
              "      <th></th>\n",
              "      <th></th>\n",
              "      <th></th>\n",
              "      <th></th>\n",
              "      <th></th>\n",
              "      <th></th>\n",
              "      <th></th>\n",
              "      <th></th>\n",
              "      <th></th>\n",
              "      <th></th>\n",
              "      <th></th>\n",
              "      <th></th>\n",
              "      <th></th>\n",
              "      <th></th>\n",
              "      <th></th>\n",
              "      <th></th>\n",
              "      <th></th>\n",
              "      <th></th>\n",
              "      <th></th>\n",
              "      <th></th>\n",
              "      <th></th>\n",
              "      <th></th>\n",
              "      <th></th>\n",
              "      <th></th>\n",
              "      <th></th>\n",
              "      <th></th>\n",
              "      <th></th>\n",
              "      <th></th>\n",
              "      <th></th>\n",
              "      <th></th>\n",
              "      <th></th>\n",
              "      <th></th>\n",
              "      <th></th>\n",
              "      <th></th>\n",
              "      <th></th>\n",
              "      <th></th>\n",
              "      <th></th>\n",
              "      <th></th>\n",
              "      <th></th>\n",
              "      <th></th>\n",
              "      <th></th>\n",
              "      <th></th>\n",
              "      <th></th>\n",
              "      <th></th>\n",
              "      <th></th>\n",
              "      <th></th>\n",
              "      <th></th>\n",
              "    </tr>\n",
              "  </thead>\n",
              "  <tbody>\n",
              "    <tr>\n",
              "      <th>Ayiti Analytics Website</th>\n",
              "      <td>1</td>\n",
              "      <td>9</td>\n",
              "      <td>1</td>\n",
              "      <td>1</td>\n",
              "      <td>2</td>\n",
              "      <td>0</td>\n",
              "      <td>0</td>\n",
              "      <td>1</td>\n",
              "      <td>9</td>\n",
              "      <td>1</td>\n",
              "      <td>2</td>\n",
              "      <td>2</td>\n",
              "      <td>0</td>\n",
              "      <td>0</td>\n",
              "      <td>1</td>\n",
              "      <td>9</td>\n",
              "      <td>1</td>\n",
              "      <td>2</td>\n",
              "      <td>2</td>\n",
              "      <td>0</td>\n",
              "      <td>0</td>\n",
              "      <td>1</td>\n",
              "      <td>9</td>\n",
              "      <td>1</td>\n",
              "      <td>1</td>\n",
              "      <td>2</td>\n",
              "      <td>0</td>\n",
              "      <td>0</td>\n",
              "      <td>1</td>\n",
              "      <td>9</td>\n",
              "      <td>1</td>\n",
              "      <td>1</td>\n",
              "      <td>2</td>\n",
              "      <td>0</td>\n",
              "      <td>0</td>\n",
              "      <td>1</td>\n",
              "      <td>9</td>\n",
              "      <td>1</td>\n",
              "      <td>2</td>\n",
              "      <td>2</td>\n",
              "      <td>...</td>\n",
              "      <td>1</td>\n",
              "      <td>2</td>\n",
              "      <td>2</td>\n",
              "      <td>0</td>\n",
              "      <td>0</td>\n",
              "      <td>1</td>\n",
              "      <td>9</td>\n",
              "      <td>1</td>\n",
              "      <td>2</td>\n",
              "      <td>2</td>\n",
              "      <td>0</td>\n",
              "      <td>0</td>\n",
              "      <td>1</td>\n",
              "      <td>2</td>\n",
              "      <td>0</td>\n",
              "      <td>0</td>\n",
              "      <td>1</td>\n",
              "      <td>0</td>\n",
              "      <td>0</td>\n",
              "      <td>1</td>\n",
              "      <td>9</td>\n",
              "      <td>1</td>\n",
              "      <td>1</td>\n",
              "      <td>2</td>\n",
              "      <td>0</td>\n",
              "      <td>0</td>\n",
              "      <td>1</td>\n",
              "      <td>9</td>\n",
              "      <td>1</td>\n",
              "      <td>2</td>\n",
              "      <td>2</td>\n",
              "      <td>0</td>\n",
              "      <td>0</td>\n",
              "      <td>1</td>\n",
              "      <td>9</td>\n",
              "      <td>1</td>\n",
              "      <td>2</td>\n",
              "      <td>2</td>\n",
              "      <td>0</td>\n",
              "      <td>0</td>\n",
              "    </tr>\n",
              "    <tr>\n",
              "      <th>Bootcamp Alumni</th>\n",
              "      <td>3</td>\n",
              "      <td>8</td>\n",
              "      <td>0</td>\n",
              "      <td>1</td>\n",
              "      <td>1</td>\n",
              "      <td>0</td>\n",
              "      <td>1</td>\n",
              "      <td>3</td>\n",
              "      <td>8</td>\n",
              "      <td>0</td>\n",
              "      <td>1</td>\n",
              "      <td>1</td>\n",
              "      <td>0</td>\n",
              "      <td>1</td>\n",
              "      <td>3</td>\n",
              "      <td>8</td>\n",
              "      <td>0</td>\n",
              "      <td>1</td>\n",
              "      <td>1</td>\n",
              "      <td>0</td>\n",
              "      <td>1</td>\n",
              "      <td>3</td>\n",
              "      <td>8</td>\n",
              "      <td>0</td>\n",
              "      <td>1</td>\n",
              "      <td>1</td>\n",
              "      <td>0</td>\n",
              "      <td>1</td>\n",
              "      <td>3</td>\n",
              "      <td>8</td>\n",
              "      <td>0</td>\n",
              "      <td>1</td>\n",
              "      <td>1</td>\n",
              "      <td>0</td>\n",
              "      <td>1</td>\n",
              "      <td>3</td>\n",
              "      <td>8</td>\n",
              "      <td>0</td>\n",
              "      <td>1</td>\n",
              "      <td>1</td>\n",
              "      <td>...</td>\n",
              "      <td>0</td>\n",
              "      <td>1</td>\n",
              "      <td>1</td>\n",
              "      <td>0</td>\n",
              "      <td>1</td>\n",
              "      <td>3</td>\n",
              "      <td>8</td>\n",
              "      <td>0</td>\n",
              "      <td>1</td>\n",
              "      <td>1</td>\n",
              "      <td>0</td>\n",
              "      <td>1</td>\n",
              "      <td>1</td>\n",
              "      <td>6</td>\n",
              "      <td>0</td>\n",
              "      <td>1</td>\n",
              "      <td>0</td>\n",
              "      <td>0</td>\n",
              "      <td>0</td>\n",
              "      <td>3</td>\n",
              "      <td>8</td>\n",
              "      <td>0</td>\n",
              "      <td>1</td>\n",
              "      <td>1</td>\n",
              "      <td>0</td>\n",
              "      <td>1</td>\n",
              "      <td>3</td>\n",
              "      <td>8</td>\n",
              "      <td>0</td>\n",
              "      <td>1</td>\n",
              "      <td>1</td>\n",
              "      <td>0</td>\n",
              "      <td>1</td>\n",
              "      <td>3</td>\n",
              "      <td>8</td>\n",
              "      <td>0</td>\n",
              "      <td>1</td>\n",
              "      <td>1</td>\n",
              "      <td>0</td>\n",
              "      <td>1</td>\n",
              "    </tr>\n",
              "    <tr>\n",
              "      <th>ESIH</th>\n",
              "      <td>2</td>\n",
              "      <td>11</td>\n",
              "      <td>1</td>\n",
              "      <td>0</td>\n",
              "      <td>2</td>\n",
              "      <td>1</td>\n",
              "      <td>0</td>\n",
              "      <td>2</td>\n",
              "      <td>12</td>\n",
              "      <td>1</td>\n",
              "      <td>0</td>\n",
              "      <td>2</td>\n",
              "      <td>1</td>\n",
              "      <td>0</td>\n",
              "      <td>2</td>\n",
              "      <td>12</td>\n",
              "      <td>1</td>\n",
              "      <td>0</td>\n",
              "      <td>2</td>\n",
              "      <td>1</td>\n",
              "      <td>0</td>\n",
              "      <td>2</td>\n",
              "      <td>11</td>\n",
              "      <td>1</td>\n",
              "      <td>0</td>\n",
              "      <td>2</td>\n",
              "      <td>1</td>\n",
              "      <td>0</td>\n",
              "      <td>2</td>\n",
              "      <td>11</td>\n",
              "      <td>1</td>\n",
              "      <td>0</td>\n",
              "      <td>2</td>\n",
              "      <td>1</td>\n",
              "      <td>0</td>\n",
              "      <td>2</td>\n",
              "      <td>12</td>\n",
              "      <td>1</td>\n",
              "      <td>0</td>\n",
              "      <td>2</td>\n",
              "      <td>...</td>\n",
              "      <td>1</td>\n",
              "      <td>0</td>\n",
              "      <td>2</td>\n",
              "      <td>0</td>\n",
              "      <td>0</td>\n",
              "      <td>2</td>\n",
              "      <td>12</td>\n",
              "      <td>1</td>\n",
              "      <td>0</td>\n",
              "      <td>2</td>\n",
              "      <td>1</td>\n",
              "      <td>0</td>\n",
              "      <td>1</td>\n",
              "      <td>4</td>\n",
              "      <td>0</td>\n",
              "      <td>0</td>\n",
              "      <td>1</td>\n",
              "      <td>1</td>\n",
              "      <td>0</td>\n",
              "      <td>2</td>\n",
              "      <td>11</td>\n",
              "      <td>1</td>\n",
              "      <td>0</td>\n",
              "      <td>2</td>\n",
              "      <td>1</td>\n",
              "      <td>0</td>\n",
              "      <td>2</td>\n",
              "      <td>12</td>\n",
              "      <td>1</td>\n",
              "      <td>0</td>\n",
              "      <td>2</td>\n",
              "      <td>1</td>\n",
              "      <td>0</td>\n",
              "      <td>2</td>\n",
              "      <td>12</td>\n",
              "      <td>1</td>\n",
              "      <td>0</td>\n",
              "      <td>2</td>\n",
              "      <td>1</td>\n",
              "      <td>0</td>\n",
              "    </tr>\n",
              "    <tr>\n",
              "      <th>Facebook</th>\n",
              "      <td>10</td>\n",
              "      <td>20</td>\n",
              "      <td>3</td>\n",
              "      <td>3</td>\n",
              "      <td>4</td>\n",
              "      <td>0</td>\n",
              "      <td>0</td>\n",
              "      <td>10</td>\n",
              "      <td>20</td>\n",
              "      <td>3</td>\n",
              "      <td>3</td>\n",
              "      <td>4</td>\n",
              "      <td>0</td>\n",
              "      <td>0</td>\n",
              "      <td>9</td>\n",
              "      <td>20</td>\n",
              "      <td>2</td>\n",
              "      <td>3</td>\n",
              "      <td>4</td>\n",
              "      <td>0</td>\n",
              "      <td>0</td>\n",
              "      <td>10</td>\n",
              "      <td>20</td>\n",
              "      <td>3</td>\n",
              "      <td>3</td>\n",
              "      <td>4</td>\n",
              "      <td>0</td>\n",
              "      <td>0</td>\n",
              "      <td>10</td>\n",
              "      <td>20</td>\n",
              "      <td>3</td>\n",
              "      <td>3</td>\n",
              "      <td>4</td>\n",
              "      <td>0</td>\n",
              "      <td>0</td>\n",
              "      <td>10</td>\n",
              "      <td>20</td>\n",
              "      <td>3</td>\n",
              "      <td>3</td>\n",
              "      <td>4</td>\n",
              "      <td>...</td>\n",
              "      <td>3</td>\n",
              "      <td>3</td>\n",
              "      <td>4</td>\n",
              "      <td>0</td>\n",
              "      <td>0</td>\n",
              "      <td>10</td>\n",
              "      <td>20</td>\n",
              "      <td>3</td>\n",
              "      <td>3</td>\n",
              "      <td>4</td>\n",
              "      <td>0</td>\n",
              "      <td>0</td>\n",
              "      <td>4</td>\n",
              "      <td>9</td>\n",
              "      <td>2</td>\n",
              "      <td>0</td>\n",
              "      <td>1</td>\n",
              "      <td>0</td>\n",
              "      <td>0</td>\n",
              "      <td>10</td>\n",
              "      <td>20</td>\n",
              "      <td>3</td>\n",
              "      <td>3</td>\n",
              "      <td>4</td>\n",
              "      <td>0</td>\n",
              "      <td>0</td>\n",
              "      <td>9</td>\n",
              "      <td>20</td>\n",
              "      <td>2</td>\n",
              "      <td>3</td>\n",
              "      <td>4</td>\n",
              "      <td>0</td>\n",
              "      <td>0</td>\n",
              "      <td>10</td>\n",
              "      <td>20</td>\n",
              "      <td>3</td>\n",
              "      <td>3</td>\n",
              "      <td>4</td>\n",
              "      <td>0</td>\n",
              "      <td>0</td>\n",
              "    </tr>\n",
              "    <tr>\n",
              "      <th>Friend</th>\n",
              "      <td>10</td>\n",
              "      <td>36</td>\n",
              "      <td>1</td>\n",
              "      <td>4</td>\n",
              "      <td>14</td>\n",
              "      <td>0</td>\n",
              "      <td>0</td>\n",
              "      <td>10</td>\n",
              "      <td>38</td>\n",
              "      <td>1</td>\n",
              "      <td>4</td>\n",
              "      <td>14</td>\n",
              "      <td>0</td>\n",
              "      <td>0</td>\n",
              "      <td>10</td>\n",
              "      <td>38</td>\n",
              "      <td>1</td>\n",
              "      <td>4</td>\n",
              "      <td>14</td>\n",
              "      <td>0</td>\n",
              "      <td>0</td>\n",
              "      <td>10</td>\n",
              "      <td>36</td>\n",
              "      <td>1</td>\n",
              "      <td>4</td>\n",
              "      <td>14</td>\n",
              "      <td>0</td>\n",
              "      <td>0</td>\n",
              "      <td>10</td>\n",
              "      <td>36</td>\n",
              "      <td>1</td>\n",
              "      <td>4</td>\n",
              "      <td>14</td>\n",
              "      <td>0</td>\n",
              "      <td>0</td>\n",
              "      <td>10</td>\n",
              "      <td>38</td>\n",
              "      <td>1</td>\n",
              "      <td>4</td>\n",
              "      <td>14</td>\n",
              "      <td>...</td>\n",
              "      <td>1</td>\n",
              "      <td>4</td>\n",
              "      <td>14</td>\n",
              "      <td>0</td>\n",
              "      <td>0</td>\n",
              "      <td>10</td>\n",
              "      <td>38</td>\n",
              "      <td>1</td>\n",
              "      <td>4</td>\n",
              "      <td>14</td>\n",
              "      <td>0</td>\n",
              "      <td>0</td>\n",
              "      <td>5</td>\n",
              "      <td>19</td>\n",
              "      <td>0</td>\n",
              "      <td>2</td>\n",
              "      <td>5</td>\n",
              "      <td>0</td>\n",
              "      <td>0</td>\n",
              "      <td>10</td>\n",
              "      <td>36</td>\n",
              "      <td>1</td>\n",
              "      <td>4</td>\n",
              "      <td>14</td>\n",
              "      <td>0</td>\n",
              "      <td>0</td>\n",
              "      <td>10</td>\n",
              "      <td>38</td>\n",
              "      <td>1</td>\n",
              "      <td>4</td>\n",
              "      <td>14</td>\n",
              "      <td>0</td>\n",
              "      <td>0</td>\n",
              "      <td>10</td>\n",
              "      <td>38</td>\n",
              "      <td>1</td>\n",
              "      <td>4</td>\n",
              "      <td>14</td>\n",
              "      <td>0</td>\n",
              "      <td>0</td>\n",
              "    </tr>\n",
              "    <tr>\n",
              "      <th>Instagram</th>\n",
              "      <td>2</td>\n",
              "      <td>0</td>\n",
              "      <td>0</td>\n",
              "      <td>1</td>\n",
              "      <td>2</td>\n",
              "      <td>0</td>\n",
              "      <td>0</td>\n",
              "      <td>2</td>\n",
              "      <td>0</td>\n",
              "      <td>0</td>\n",
              "      <td>1</td>\n",
              "      <td>2</td>\n",
              "      <td>0</td>\n",
              "      <td>0</td>\n",
              "      <td>2</td>\n",
              "      <td>0</td>\n",
              "      <td>0</td>\n",
              "      <td>1</td>\n",
              "      <td>2</td>\n",
              "      <td>0</td>\n",
              "      <td>0</td>\n",
              "      <td>2</td>\n",
              "      <td>0</td>\n",
              "      <td>0</td>\n",
              "      <td>1</td>\n",
              "      <td>2</td>\n",
              "      <td>0</td>\n",
              "      <td>0</td>\n",
              "      <td>2</td>\n",
              "      <td>0</td>\n",
              "      <td>0</td>\n",
              "      <td>1</td>\n",
              "      <td>2</td>\n",
              "      <td>0</td>\n",
              "      <td>0</td>\n",
              "      <td>2</td>\n",
              "      <td>0</td>\n",
              "      <td>0</td>\n",
              "      <td>1</td>\n",
              "      <td>2</td>\n",
              "      <td>...</td>\n",
              "      <td>0</td>\n",
              "      <td>1</td>\n",
              "      <td>2</td>\n",
              "      <td>0</td>\n",
              "      <td>0</td>\n",
              "      <td>2</td>\n",
              "      <td>0</td>\n",
              "      <td>0</td>\n",
              "      <td>1</td>\n",
              "      <td>2</td>\n",
              "      <td>0</td>\n",
              "      <td>0</td>\n",
              "      <td>1</td>\n",
              "      <td>0</td>\n",
              "      <td>0</td>\n",
              "      <td>1</td>\n",
              "      <td>0</td>\n",
              "      <td>0</td>\n",
              "      <td>0</td>\n",
              "      <td>2</td>\n",
              "      <td>0</td>\n",
              "      <td>0</td>\n",
              "      <td>1</td>\n",
              "      <td>2</td>\n",
              "      <td>0</td>\n",
              "      <td>0</td>\n",
              "      <td>2</td>\n",
              "      <td>0</td>\n",
              "      <td>0</td>\n",
              "      <td>1</td>\n",
              "      <td>2</td>\n",
              "      <td>0</td>\n",
              "      <td>0</td>\n",
              "      <td>2</td>\n",
              "      <td>0</td>\n",
              "      <td>0</td>\n",
              "      <td>1</td>\n",
              "      <td>2</td>\n",
              "      <td>0</td>\n",
              "      <td>0</td>\n",
              "    </tr>\n",
              "    <tr>\n",
              "      <th>LinkedIn</th>\n",
              "      <td>2</td>\n",
              "      <td>10</td>\n",
              "      <td>0</td>\n",
              "      <td>1</td>\n",
              "      <td>2</td>\n",
              "      <td>0</td>\n",
              "      <td>0</td>\n",
              "      <td>2</td>\n",
              "      <td>10</td>\n",
              "      <td>0</td>\n",
              "      <td>1</td>\n",
              "      <td>2</td>\n",
              "      <td>0</td>\n",
              "      <td>0</td>\n",
              "      <td>2</td>\n",
              "      <td>10</td>\n",
              "      <td>0</td>\n",
              "      <td>1</td>\n",
              "      <td>2</td>\n",
              "      <td>0</td>\n",
              "      <td>0</td>\n",
              "      <td>2</td>\n",
              "      <td>10</td>\n",
              "      <td>0</td>\n",
              "      <td>1</td>\n",
              "      <td>2</td>\n",
              "      <td>0</td>\n",
              "      <td>0</td>\n",
              "      <td>2</td>\n",
              "      <td>10</td>\n",
              "      <td>0</td>\n",
              "      <td>1</td>\n",
              "      <td>2</td>\n",
              "      <td>0</td>\n",
              "      <td>0</td>\n",
              "      <td>2</td>\n",
              "      <td>10</td>\n",
              "      <td>0</td>\n",
              "      <td>1</td>\n",
              "      <td>2</td>\n",
              "      <td>...</td>\n",
              "      <td>0</td>\n",
              "      <td>1</td>\n",
              "      <td>2</td>\n",
              "      <td>0</td>\n",
              "      <td>0</td>\n",
              "      <td>2</td>\n",
              "      <td>10</td>\n",
              "      <td>0</td>\n",
              "      <td>1</td>\n",
              "      <td>2</td>\n",
              "      <td>0</td>\n",
              "      <td>0</td>\n",
              "      <td>1</td>\n",
              "      <td>3</td>\n",
              "      <td>0</td>\n",
              "      <td>1</td>\n",
              "      <td>2</td>\n",
              "      <td>0</td>\n",
              "      <td>0</td>\n",
              "      <td>2</td>\n",
              "      <td>10</td>\n",
              "      <td>0</td>\n",
              "      <td>1</td>\n",
              "      <td>2</td>\n",
              "      <td>0</td>\n",
              "      <td>0</td>\n",
              "      <td>2</td>\n",
              "      <td>10</td>\n",
              "      <td>0</td>\n",
              "      <td>1</td>\n",
              "      <td>2</td>\n",
              "      <td>0</td>\n",
              "      <td>0</td>\n",
              "      <td>2</td>\n",
              "      <td>10</td>\n",
              "      <td>0</td>\n",
              "      <td>1</td>\n",
              "      <td>2</td>\n",
              "      <td>0</td>\n",
              "      <td>0</td>\n",
              "    </tr>\n",
              "    <tr>\n",
              "      <th>WhatsApp</th>\n",
              "      <td>11</td>\n",
              "      <td>28</td>\n",
              "      <td>6</td>\n",
              "      <td>8</td>\n",
              "      <td>11</td>\n",
              "      <td>1</td>\n",
              "      <td>0</td>\n",
              "      <td>11</td>\n",
              "      <td>29</td>\n",
              "      <td>6</td>\n",
              "      <td>8</td>\n",
              "      <td>11</td>\n",
              "      <td>1</td>\n",
              "      <td>0</td>\n",
              "      <td>9</td>\n",
              "      <td>29</td>\n",
              "      <td>6</td>\n",
              "      <td>7</td>\n",
              "      <td>11</td>\n",
              "      <td>1</td>\n",
              "      <td>0</td>\n",
              "      <td>11</td>\n",
              "      <td>28</td>\n",
              "      <td>6</td>\n",
              "      <td>8</td>\n",
              "      <td>11</td>\n",
              "      <td>1</td>\n",
              "      <td>0</td>\n",
              "      <td>11</td>\n",
              "      <td>28</td>\n",
              "      <td>6</td>\n",
              "      <td>8</td>\n",
              "      <td>11</td>\n",
              "      <td>1</td>\n",
              "      <td>0</td>\n",
              "      <td>11</td>\n",
              "      <td>29</td>\n",
              "      <td>6</td>\n",
              "      <td>8</td>\n",
              "      <td>11</td>\n",
              "      <td>...</td>\n",
              "      <td>6</td>\n",
              "      <td>8</td>\n",
              "      <td>9</td>\n",
              "      <td>1</td>\n",
              "      <td>0</td>\n",
              "      <td>11</td>\n",
              "      <td>29</td>\n",
              "      <td>6</td>\n",
              "      <td>8</td>\n",
              "      <td>11</td>\n",
              "      <td>1</td>\n",
              "      <td>0</td>\n",
              "      <td>7</td>\n",
              "      <td>10</td>\n",
              "      <td>0</td>\n",
              "      <td>1</td>\n",
              "      <td>4</td>\n",
              "      <td>1</td>\n",
              "      <td>0</td>\n",
              "      <td>11</td>\n",
              "      <td>28</td>\n",
              "      <td>6</td>\n",
              "      <td>8</td>\n",
              "      <td>11</td>\n",
              "      <td>1</td>\n",
              "      <td>0</td>\n",
              "      <td>9</td>\n",
              "      <td>29</td>\n",
              "      <td>6</td>\n",
              "      <td>7</td>\n",
              "      <td>11</td>\n",
              "      <td>1</td>\n",
              "      <td>0</td>\n",
              "      <td>11</td>\n",
              "      <td>29</td>\n",
              "      <td>6</td>\n",
              "      <td>8</td>\n",
              "      <td>11</td>\n",
              "      <td>1</td>\n",
              "      <td>0</td>\n",
              "    </tr>\n",
              "    <tr>\n",
              "      <th>other</th>\n",
              "      <td>2</td>\n",
              "      <td>4</td>\n",
              "      <td>1</td>\n",
              "      <td>0</td>\n",
              "      <td>1</td>\n",
              "      <td>1</td>\n",
              "      <td>0</td>\n",
              "      <td>2</td>\n",
              "      <td>4</td>\n",
              "      <td>1</td>\n",
              "      <td>0</td>\n",
              "      <td>1</td>\n",
              "      <td>1</td>\n",
              "      <td>0</td>\n",
              "      <td>2</td>\n",
              "      <td>4</td>\n",
              "      <td>1</td>\n",
              "      <td>0</td>\n",
              "      <td>1</td>\n",
              "      <td>1</td>\n",
              "      <td>0</td>\n",
              "      <td>2</td>\n",
              "      <td>4</td>\n",
              "      <td>1</td>\n",
              "      <td>0</td>\n",
              "      <td>1</td>\n",
              "      <td>1</td>\n",
              "      <td>0</td>\n",
              "      <td>2</td>\n",
              "      <td>4</td>\n",
              "      <td>1</td>\n",
              "      <td>0</td>\n",
              "      <td>1</td>\n",
              "      <td>1</td>\n",
              "      <td>0</td>\n",
              "      <td>2</td>\n",
              "      <td>4</td>\n",
              "      <td>1</td>\n",
              "      <td>0</td>\n",
              "      <td>1</td>\n",
              "      <td>...</td>\n",
              "      <td>1</td>\n",
              "      <td>0</td>\n",
              "      <td>1</td>\n",
              "      <td>1</td>\n",
              "      <td>0</td>\n",
              "      <td>2</td>\n",
              "      <td>4</td>\n",
              "      <td>1</td>\n",
              "      <td>0</td>\n",
              "      <td>1</td>\n",
              "      <td>1</td>\n",
              "      <td>0</td>\n",
              "      <td>0</td>\n",
              "      <td>1</td>\n",
              "      <td>1</td>\n",
              "      <td>0</td>\n",
              "      <td>1</td>\n",
              "      <td>0</td>\n",
              "      <td>0</td>\n",
              "      <td>2</td>\n",
              "      <td>4</td>\n",
              "      <td>1</td>\n",
              "      <td>0</td>\n",
              "      <td>1</td>\n",
              "      <td>1</td>\n",
              "      <td>0</td>\n",
              "      <td>2</td>\n",
              "      <td>4</td>\n",
              "      <td>1</td>\n",
              "      <td>0</td>\n",
              "      <td>1</td>\n",
              "      <td>1</td>\n",
              "      <td>0</td>\n",
              "      <td>2</td>\n",
              "      <td>4</td>\n",
              "      <td>1</td>\n",
              "      <td>0</td>\n",
              "      <td>1</td>\n",
              "      <td>1</td>\n",
              "      <td>0</td>\n",
              "    </tr>\n",
              "    <tr>\n",
              "      <th>unknown</th>\n",
              "      <td>0</td>\n",
              "      <td>0</td>\n",
              "      <td>0</td>\n",
              "      <td>0</td>\n",
              "      <td>0</td>\n",
              "      <td>0</td>\n",
              "      <td>0</td>\n",
              "      <td>0</td>\n",
              "      <td>0</td>\n",
              "      <td>0</td>\n",
              "      <td>0</td>\n",
              "      <td>0</td>\n",
              "      <td>0</td>\n",
              "      <td>1</td>\n",
              "      <td>0</td>\n",
              "      <td>0</td>\n",
              "      <td>0</td>\n",
              "      <td>0</td>\n",
              "      <td>0</td>\n",
              "      <td>0</td>\n",
              "      <td>0</td>\n",
              "      <td>0</td>\n",
              "      <td>0</td>\n",
              "      <td>0</td>\n",
              "      <td>0</td>\n",
              "      <td>0</td>\n",
              "      <td>0</td>\n",
              "      <td>0</td>\n",
              "      <td>0</td>\n",
              "      <td>0</td>\n",
              "      <td>0</td>\n",
              "      <td>0</td>\n",
              "      <td>0</td>\n",
              "      <td>0</td>\n",
              "      <td>0</td>\n",
              "      <td>0</td>\n",
              "      <td>0</td>\n",
              "      <td>0</td>\n",
              "      <td>0</td>\n",
              "      <td>0</td>\n",
              "      <td>...</td>\n",
              "      <td>0</td>\n",
              "      <td>0</td>\n",
              "      <td>0</td>\n",
              "      <td>0</td>\n",
              "      <td>1</td>\n",
              "      <td>0</td>\n",
              "      <td>0</td>\n",
              "      <td>0</td>\n",
              "      <td>0</td>\n",
              "      <td>0</td>\n",
              "      <td>0</td>\n",
              "      <td>1</td>\n",
              "      <td>0</td>\n",
              "      <td>0</td>\n",
              "      <td>0</td>\n",
              "      <td>0</td>\n",
              "      <td>0</td>\n",
              "      <td>0</td>\n",
              "      <td>1</td>\n",
              "      <td>0</td>\n",
              "      <td>0</td>\n",
              "      <td>0</td>\n",
              "      <td>0</td>\n",
              "      <td>0</td>\n",
              "      <td>0</td>\n",
              "      <td>0</td>\n",
              "      <td>0</td>\n",
              "      <td>0</td>\n",
              "      <td>0</td>\n",
              "      <td>0</td>\n",
              "      <td>0</td>\n",
              "      <td>0</td>\n",
              "      <td>0</td>\n",
              "      <td>0</td>\n",
              "      <td>0</td>\n",
              "      <td>0</td>\n",
              "      <td>0</td>\n",
              "      <td>0</td>\n",
              "      <td>0</td>\n",
              "      <td>1</td>\n",
              "    </tr>\n",
              "  </tbody>\n",
              "</table>\n",
              "<p>10 rows × 245 columns</p>\n",
              "</div>"
            ],
            "text/plain": [
              "                                      Accounting  ... quest_id\n",
              "Bootcamp Insterest      Finding a job/internship  ...  unknown\n",
              "Communication channels                            ...         \n",
              "Ayiti Analytics Website                        1  ...        0\n",
              "Bootcamp Alumni                                3  ...        1\n",
              "ESIH                                           2  ...        0\n",
              "Facebook                                      10  ...        0\n",
              "Friend                                        10  ...        0\n",
              "Instagram                                      2  ...        0\n",
              "LinkedIn                                       2  ...        0\n",
              "WhatsApp                                      11  ...        0\n",
              "other                                          2  ...        0\n",
              "unknown                                        0  ...        1\n",
              "\n",
              "[10 rows x 245 columns]"
            ]
          },
          "metadata": {
            "tags": []
          },
          "execution_count": 98
        }
      ]
    },
    {
      "cell_type": "code",
      "metadata": {
        "colab": {
          "base_uri": "https://localhost:8080/"
        },
        "id": "cWOFRs2OdHOo",
        "outputId": "43f34620-6838-4ac3-f139-ddc752dff9ca"
      },
      "source": [
        "pro = df4[df4['gender'] == 'male']['Bootcamp Insterest']\n",
        "pro.value_counts(normalize=1)"
      ],
      "execution_count": null,
      "outputs": [
        {
          "output_type": "execute_result",
          "data": {
            "text/plain": [
              "Improving my data analysis skills    0.522167\n",
              "Finding a job/internship             0.162562\n",
              "Training to start my own company     0.162562\n",
              "Switching careers                    0.083744\n",
              "Mentorship                           0.044335\n",
              "other                                0.014778\n",
              "unknown                              0.009852\n",
              "Name: Bootcamp Insterest, dtype: float64"
            ]
          },
          "metadata": {
            "tags": []
          },
          "execution_count": 99
        }
      ]
    },
    {
      "cell_type": "code",
      "metadata": {
        "id": "hNm0iQ21bn8Q"
      },
      "source": [
        "#display2= pd.pivot_table(data = df4, columns= 'Bootcamp Insterest', index= 'gender', aggfunc='count', fill_value=0)"
      ],
      "execution_count": null,
      "outputs": []
    },
    {
      "cell_type": "code",
      "metadata": {
        "colab": {
          "base_uri": "https://localhost:8080/",
          "height": 875
        },
        "id": "DsL9_vdD7sx4",
        "outputId": "383ad7a9-d034-41d0-9b40-3107172bda9c"
      },
      "source": [
        "def display(data=df4,columns=None,significance_level=0.05,figsize=(5,5),heatmap=False):\n",
        "  dff1  = pd.pivot_table(data=data,index=columns[0],columns=columns[1],values=\"age\",aggfunc=\"count\",fill_value=0,margins = True)\n",
        "  #display(result1)\n",
        "  stat, p, dof,s= chi2_contingency(dff1) \n",
        "  print(\"p value: \" + str(p)) \n",
        "  if p <= significance_level: \n",
        "    print('Reject') \n",
        "  else: \n",
        "    print('Accept') \n",
        "  \n",
        "  plt.figure(figsize=figsize)\n",
        "  if heatmap:\n",
        "    ax = sns.heatmap(dff1,cmap=\"YlGnBu\", linewidths=.5,\n",
        "    annot=True ,annot_kws={'size':14} ,fmt=\".1f\" , cbar=True ,square = True)\n",
        "    plt.yticks(rotation=0)\n",
        "  else:\n",
        "    values = dff1.iloc[:-1,:].sort_values(by =('male'),ascending=True)\n",
        "    ax =values.sort_values(by =('male'),ascending=True)[[('male'),('female')]].plot(kind=\"barh\",figsize=(10,8),stacked= True,alpha =0.7)\n",
        "    ylab = ax.set_ylabel('Applicants')\n",
        "    xlab = ax.set_xlabel('Communications Channels')\n",
        "    title = ax.set_title('Percents of Communications channels')\n",
        "\n",
        "    index =0\n",
        "    for male, female ,total in zip(values[('male')],values[('female')], values[('All')]):\n",
        "      if male != total and  female != total  :\n",
        "        ax.text(male/2 ,\n",
        "                index,\n",
        "                str(np.round((male/total)*100,1)) + \"%\",\n",
        "                fontdict=dict(color='white',fontsize=10,horizontalalignment=\"center\",verticalalignment=\"center\")\n",
        "                )\n",
        "        ax.text(male + female/2 ,\n",
        "              index,\n",
        "              str(np.round((female/total)*100,1)) + \"%\",\n",
        "              fontdict=dict(color='blue',fontsize=10,horizontalalignment=\"center\",verticalalignment=\"center\")\n",
        "            )\n",
        "      elif female == total:\n",
        "        ax.text(female/2 ,\n",
        "            index,\n",
        "            str(np.round((female/total)*100,1)) + \"%\",\n",
        "            fontdict=dict(color='blue',fontsize=10,horizontalalignment=\"center\",verticalalignment=\"center\")\n",
        "          )\n",
        "      else:\n",
        "        ax.text(male/2 ,\n",
        "            index,\n",
        "            str(np.round((male/total)*100,1)) + \"%\",\n",
        "            fontdict=dict(color='white',fontsize=10,horizontalalignment=\"center\",verticalalignment=\"center\")\n",
        "          )       \n",
        "   \n",
        "    \n",
        "      index+=1\n",
        "  plt.show()\n",
        "  return dff1\n",
        "display(df4,columns=['Bootcamp Insterest','gender'],significance_level=0.05,figsize=(5,15),heatmap=False)  "
      ],
      "execution_count": null,
      "outputs": [
        {
          "output_type": "stream",
          "text": [
            "p value: 0.9980190494040612\n",
            "Accept\n"
          ],
          "name": "stdout"
        },
        {
          "output_type": "display_data",
          "data": {
            "text/plain": [
              "<Figure size 360x1080 with 0 Axes>"
            ]
          },
          "metadata": {
            "tags": []
          }
        },
        {
          "output_type": "display_data",
          "data": {
            "image/png": "[encoded data removed]",
            "text/plain": [
              "<Figure size 720x576 with 1 Axes>"
            ]
          },
          "metadata": {
            "tags": [],
            "needs_background": "light"
          }
        },
        {
          "output_type": "execute_result",
          "data": {
            "text/html": [
              "<div>\n",
              "<style scoped>\n",
              "    .dataframe tbody tr th:only-of-type {\n",
              "        vertical-align: middle;\n",
              "    }\n",
              "\n",
              "    .dataframe tbody tr th {\n",
              "        vertical-align: top;\n",
              "    }\n",
              "\n",
              "    .dataframe thead th {\n",
              "        text-align: right;\n",
              "    }\n",
              "</style>\n",
              "<table border=\"1\" class=\"dataframe\">\n",
              "  <thead>\n",
              "    <tr style=\"text-align: right;\">\n",
              "      <th>gender</th>\n",
              "      <th>female</th>\n",
              "      <th>male</th>\n",
              "      <th>All</th>\n",
              "    </tr>\n",
              "    <tr>\n",
              "      <th>Bootcamp Insterest</th>\n",
              "      <th></th>\n",
              "      <th></th>\n",
              "      <th></th>\n",
              "    </tr>\n",
              "  </thead>\n",
              "  <tbody>\n",
              "    <tr>\n",
              "      <th>Finding a job/internship</th>\n",
              "      <td>10</td>\n",
              "      <td>33</td>\n",
              "      <td>43</td>\n",
              "    </tr>\n",
              "    <tr>\n",
              "      <th>Improving my data analysis skills</th>\n",
              "      <td>24</td>\n",
              "      <td>106</td>\n",
              "      <td>130</td>\n",
              "    </tr>\n",
              "    <tr>\n",
              "      <th>Mentorship</th>\n",
              "      <td>4</td>\n",
              "      <td>9</td>\n",
              "      <td>13</td>\n",
              "    </tr>\n",
              "    <tr>\n",
              "      <th>Switching careers</th>\n",
              "      <td>3</td>\n",
              "      <td>17</td>\n",
              "      <td>20</td>\n",
              "    </tr>\n",
              "    <tr>\n",
              "      <th>Training to start my own company</th>\n",
              "      <td>6</td>\n",
              "      <td>33</td>\n",
              "      <td>39</td>\n",
              "    </tr>\n",
              "    <tr>\n",
              "      <th>other</th>\n",
              "      <td>0</td>\n",
              "      <td>3</td>\n",
              "      <td>3</td>\n",
              "    </tr>\n",
              "    <tr>\n",
              "      <th>unknown</th>\n",
              "      <td>0</td>\n",
              "      <td>2</td>\n",
              "      <td>2</td>\n",
              "    </tr>\n",
              "    <tr>\n",
              "      <th>All</th>\n",
              "      <td>47</td>\n",
              "      <td>203</td>\n",
              "      <td>250</td>\n",
              "    </tr>\n",
              "  </tbody>\n",
              "</table>\n",
              "</div>"
            ],
            "text/plain": [
              "gender                             female  male  All\n",
              "Bootcamp Insterest                                  \n",
              "Finding a job/internship               10    33   43\n",
              "Improving my data analysis skills      24   106  130\n",
              "Mentorship                              4     9   13\n",
              "Switching careers                       3    17   20\n",
              "Training to start my own company        6    33   39\n",
              "other                                   0     3    3\n",
              "unknown                                 0     2    2\n",
              "All                                    47   203  250"
            ]
          },
          "metadata": {
            "tags": []
          },
          "execution_count": 101
        }
      ]
    },
    {
      "cell_type": "markdown",
      "metadata": {
        "id": "9xNYw8l_LnIf"
      },
      "source": [
        "### 17.Plan a BA  strategy for each communication channel, Bootcamp Insterest regarding the gender "
      ]
    },
    {
      "cell_type": "code",
      "metadata": {
        "id": "WGcwQ-VQLnIg"
      },
      "source": [
        "#here your codes"
      ],
      "execution_count": null,
      "outputs": []
    },
    {
      "cell_type": "markdown",
      "metadata": {
        "id": "zk8edHTz5DIQ"
      },
      "source": [
        "The interests do not vary too much. 18.5% of women are interested in improving their data analysis skills and 23.3% are interested in finding a job very little or 15.4% are interested in starting their own company\n",
        "which is not too different from men, the only difference is that they are much more interested in starting their own company than finding a job.\n",
        "If we want to find a more accessible way of communication for women and men, it is the channels friends, whatsapp and facebook."
      ]
    },
    {
      "cell_type": "markdown",
      "metadata": {
        "id": "w-meuNEWLnIj"
      },
      "source": [
        "### 19. Calculate \n",
        "    * P(Bootcamp Insterest,Communication channels,Gender/Payed=yes)\n",
        "    * P(Bootcamp Insterest,Communication channels,Gender/Payed=no)"
      ]
    },
    {
      "cell_type": "code",
      "metadata": {
        "id": "kuKOIw8d43Lt"
      },
      "source": [
        "n12 = len(df4[df4['Payed'] == 'Yes'])\n",
        "n12n = 250-n12"
      ],
      "execution_count": null,
      "outputs": []
    },
    {
      "cell_type": "code",
      "metadata": {
        "id": "zNLv_jV5NjU2",
        "colab": {
          "base_uri": "https://localhost:8080/"
        },
        "outputId": "c5d142c2-5a02-4571-d6bf-24367d297bea"
      },
      "source": [
        "df5 = pd.pivot_table(df4[df4['Payed'] == 'Yes'], values= 'quest_id', index=['Bootcamp Insterest', 'Communication channels', 'gender'], aggfunc= 'count')\n",
        "df5 =df5/n12\n",
        "print('Bootcamp Interest,Communication channels,Gender/Yes Payed')\n",
        "print(df5)"
      ],
      "execution_count": null,
      "outputs": [
        {
          "output_type": "stream",
          "text": [
            "Bootcamp Interest,Communication channels,Gender/Yes Payed\n",
            "                                                                  quest_id\n",
            "Bootcamp Insterest                Communication channels  gender          \n",
            "Finding a job/internship          Ayiti Analytics Website male    0.015385\n",
            "                                  Bootcamp Alumni         female  0.015385\n",
            "                                  ESIH                    male    0.015385\n",
            "                                  Facebook                male    0.015385\n",
            "                                  Friend                  female  0.015385\n",
            "                                                          male    0.030769\n",
            "                                  Instagram               male    0.015385\n",
            "                                  LinkedIn                male    0.015385\n",
            "                                  WhatsApp                female  0.015385\n",
            "                                                          male    0.046154\n",
            "Improving my data analysis skills Ayiti Analytics Website male    0.015385\n",
            "                                  Bootcamp Alumni         female  0.015385\n",
            "                                                          male    0.076923\n",
            "                                  ESIH                    male    0.030769\n",
            "                                  Facebook                female  0.030769\n",
            "                                                          male    0.076923\n",
            "                                  Friend                  female  0.030769\n",
            "                                                          male    0.215385\n",
            "                                  LinkedIn                female  0.015385\n",
            "                                                          male    0.015385\n",
            "                                  WhatsApp                female  0.046154\n",
            "                                                          male    0.046154\n",
            "                                  other                   male    0.015385\n",
            "Mentorship                        other                   female  0.015385\n",
            "Switching careers                 Bootcamp Alumni         female  0.015385\n",
            "Training to start my own company  Ayiti Analytics Website male    0.015385\n",
            "                                  Facebook                male    0.015385\n",
            "                                  Friend                  male    0.046154\n",
            "                                  WhatsApp                male    0.030769\n",
            "other                             ESIH                    male    0.015385\n",
            "                                  WhatsApp                male    0.015385\n"
          ],
          "name": "stdout"
        }
      ]
    },
    {
      "cell_type": "code",
      "metadata": {
        "colab": {
          "base_uri": "https://localhost:8080/",
          "height": 1000
        },
        "id": "pKzBBqPCKwiy",
        "outputId": "74745153-802e-49de-c61b-f8bf77ac93af"
      },
      "source": [
        "df5"
      ],
      "execution_count": null,
      "outputs": [
        {
          "output_type": "execute_result",
          "data": {
            "text/html": [
              "<div>\n",
              "<style scoped>\n",
              "    .dataframe tbody tr th:only-of-type {\n",
              "        vertical-align: middle;\n",
              "    }\n",
              "\n",
              "    .dataframe tbody tr th {\n",
              "        vertical-align: top;\n",
              "    }\n",
              "\n",
              "    .dataframe thead th {\n",
              "        text-align: right;\n",
              "    }\n",
              "</style>\n",
              "<table border=\"1\" class=\"dataframe\">\n",
              "  <thead>\n",
              "    <tr style=\"text-align: right;\">\n",
              "      <th></th>\n",
              "      <th></th>\n",
              "      <th></th>\n",
              "      <th>quest_id</th>\n",
              "    </tr>\n",
              "    <tr>\n",
              "      <th>Bootcamp Insterest</th>\n",
              "      <th>Communication channels</th>\n",
              "      <th>gender</th>\n",
              "      <th></th>\n",
              "    </tr>\n",
              "  </thead>\n",
              "  <tbody>\n",
              "    <tr>\n",
              "      <th rowspan=\"10\" valign=\"top\">Finding a job/internship</th>\n",
              "      <th>Ayiti Analytics Website</th>\n",
              "      <th>male</th>\n",
              "      <td>0.015385</td>\n",
              "    </tr>\n",
              "    <tr>\n",
              "      <th>Bootcamp Alumni</th>\n",
              "      <th>female</th>\n",
              "      <td>0.015385</td>\n",
              "    </tr>\n",
              "    <tr>\n",
              "      <th>ESIH</th>\n",
              "      <th>male</th>\n",
              "      <td>0.015385</td>\n",
              "    </tr>\n",
              "    <tr>\n",
              "      <th>Facebook</th>\n",
              "      <th>male</th>\n",
              "      <td>0.015385</td>\n",
              "    </tr>\n",
              "    <tr>\n",
              "      <th rowspan=\"2\" valign=\"top\">Friend</th>\n",
              "      <th>female</th>\n",
              "      <td>0.015385</td>\n",
              "    </tr>\n",
              "    <tr>\n",
              "      <th>male</th>\n",
              "      <td>0.030769</td>\n",
              "    </tr>\n",
              "    <tr>\n",
              "      <th>Instagram</th>\n",
              "      <th>male</th>\n",
              "      <td>0.015385</td>\n",
              "    </tr>\n",
              "    <tr>\n",
              "      <th>LinkedIn</th>\n",
              "      <th>male</th>\n",
              "      <td>0.015385</td>\n",
              "    </tr>\n",
              "    <tr>\n",
              "      <th rowspan=\"2\" valign=\"top\">WhatsApp</th>\n",
              "      <th>female</th>\n",
              "      <td>0.015385</td>\n",
              "    </tr>\n",
              "    <tr>\n",
              "      <th>male</th>\n",
              "      <td>0.046154</td>\n",
              "    </tr>\n",
              "    <tr>\n",
              "      <th rowspan=\"13\" valign=\"top\">Improving my data analysis skills</th>\n",
              "      <th>Ayiti Analytics Website</th>\n",
              "      <th>male</th>\n",
              "      <td>0.015385</td>\n",
              "    </tr>\n",
              "    <tr>\n",
              "      <th rowspan=\"2\" valign=\"top\">Bootcamp Alumni</th>\n",
              "      <th>female</th>\n",
              "      <td>0.015385</td>\n",
              "    </tr>\n",
              "    <tr>\n",
              "      <th>male</th>\n",
              "      <td>0.076923</td>\n",
              "    </tr>\n",
              "    <tr>\n",
              "      <th>ESIH</th>\n",
              "      <th>male</th>\n",
              "      <td>0.030769</td>\n",
              "    </tr>\n",
              "    <tr>\n",
              "      <th rowspan=\"2\" valign=\"top\">Facebook</th>\n",
              "      <th>female</th>\n",
              "      <td>0.030769</td>\n",
              "    </tr>\n",
              "    <tr>\n",
              "      <th>male</th>\n",
              "      <td>0.076923</td>\n",
              "    </tr>\n",
              "    <tr>\n",
              "      <th rowspan=\"2\" valign=\"top\">Friend</th>\n",
              "      <th>female</th>\n",
              "      <td>0.030769</td>\n",
              "    </tr>\n",
              "    <tr>\n",
              "      <th>male</th>\n",
              "      <td>0.215385</td>\n",
              "    </tr>\n",
              "    <tr>\n",
              "      <th rowspan=\"2\" valign=\"top\">LinkedIn</th>\n",
              "      <th>female</th>\n",
              "      <td>0.015385</td>\n",
              "    </tr>\n",
              "    <tr>\n",
              "      <th>male</th>\n",
              "      <td>0.015385</td>\n",
              "    </tr>\n",
              "    <tr>\n",
              "      <th rowspan=\"2\" valign=\"top\">WhatsApp</th>\n",
              "      <th>female</th>\n",
              "      <td>0.046154</td>\n",
              "    </tr>\n",
              "    <tr>\n",
              "      <th>male</th>\n",
              "      <td>0.046154</td>\n",
              "    </tr>\n",
              "    <tr>\n",
              "      <th>other</th>\n",
              "      <th>male</th>\n",
              "      <td>0.015385</td>\n",
              "    </tr>\n",
              "    <tr>\n",
              "      <th>Mentorship</th>\n",
              "      <th>other</th>\n",
              "      <th>female</th>\n",
              "      <td>0.015385</td>\n",
              "    </tr>\n",
              "    <tr>\n",
              "      <th>Switching careers</th>\n",
              "      <th>Bootcamp Alumni</th>\n",
              "      <th>female</th>\n",
              "      <td>0.015385</td>\n",
              "    </tr>\n",
              "    <tr>\n",
              "      <th rowspan=\"4\" valign=\"top\">Training to start my own company</th>\n",
              "      <th>Ayiti Analytics Website</th>\n",
              "      <th>male</th>\n",
              "      <td>0.015385</td>\n",
              "    </tr>\n",
              "    <tr>\n",
              "      <th>Facebook</th>\n",
              "      <th>male</th>\n",
              "      <td>0.015385</td>\n",
              "    </tr>\n",
              "    <tr>\n",
              "      <th>Friend</th>\n",
              "      <th>male</th>\n",
              "      <td>0.046154</td>\n",
              "    </tr>\n",
              "    <tr>\n",
              "      <th>WhatsApp</th>\n",
              "      <th>male</th>\n",
              "      <td>0.030769</td>\n",
              "    </tr>\n",
              "    <tr>\n",
              "      <th rowspan=\"2\" valign=\"top\">other</th>\n",
              "      <th>ESIH</th>\n",
              "      <th>male</th>\n",
              "      <td>0.015385</td>\n",
              "    </tr>\n",
              "    <tr>\n",
              "      <th>WhatsApp</th>\n",
              "      <th>male</th>\n",
              "      <td>0.015385</td>\n",
              "    </tr>\n",
              "  </tbody>\n",
              "</table>\n",
              "</div>"
            ],
            "text/plain": [
              "                                                                  quest_id\n",
              "Bootcamp Insterest                Communication channels  gender          \n",
              "Finding a job/internship          Ayiti Analytics Website male    0.015385\n",
              "                                  Bootcamp Alumni         female  0.015385\n",
              "                                  ESIH                    male    0.015385\n",
              "                                  Facebook                male    0.015385\n",
              "                                  Friend                  female  0.015385\n",
              "                                                          male    0.030769\n",
              "                                  Instagram               male    0.015385\n",
              "                                  LinkedIn                male    0.015385\n",
              "                                  WhatsApp                female  0.015385\n",
              "                                                          male    0.046154\n",
              "Improving my data analysis skills Ayiti Analytics Website male    0.015385\n",
              "                                  Bootcamp Alumni         female  0.015385\n",
              "                                                          male    0.076923\n",
              "                                  ESIH                    male    0.030769\n",
              "                                  Facebook                female  0.030769\n",
              "                                                          male    0.076923\n",
              "                                  Friend                  female  0.030769\n",
              "                                                          male    0.215385\n",
              "                                  LinkedIn                female  0.015385\n",
              "                                                          male    0.015385\n",
              "                                  WhatsApp                female  0.046154\n",
              "                                                          male    0.046154\n",
              "                                  other                   male    0.015385\n",
              "Mentorship                        other                   female  0.015385\n",
              "Switching careers                 Bootcamp Alumni         female  0.015385\n",
              "Training to start my own company  Ayiti Analytics Website male    0.015385\n",
              "                                  Facebook                male    0.015385\n",
              "                                  Friend                  male    0.046154\n",
              "                                  WhatsApp                male    0.030769\n",
              "other                             ESIH                    male    0.015385\n",
              "                                  WhatsApp                male    0.015385"
            ]
          },
          "metadata": {
            "tags": []
          },
          "execution_count": 112
        }
      ]
    },
    {
      "cell_type": "code",
      "metadata": {
        "id": "tFL1Ycct1Mfi",
        "colab": {
          "base_uri": "https://localhost:8080/"
        },
        "outputId": "ff4aa523-7ed7-4404-d952-545df4066561"
      },
      "source": [
        "df6 = pd.pivot_table(df4[df4['Payed'] == 'No'], values= 'quest_id', index=['Bootcamp Insterest', \"Communication channels\", 'gender'], aggfunc= 'count')\n",
        "df6 = df6/n12n\n",
        "print('Bootcamp Interest,Communication channels,Gender/No Payed')\n",
        "print(df6)"
      ],
      "execution_count": null,
      "outputs": [
        {
          "output_type": "stream",
          "text": [
            "Bootcamp Interest,Communication channels,Gender/No Payed\n",
            "                                                                  quest_id\n",
            "Bootcamp Insterest                Communication channels  gender          \n",
            "Finding a job/internship          Facebook                female  0.010811\n",
            "                                                          male    0.005405\n",
            "                                  Friend                  male    0.010811\n",
            "                                  WhatsApp                male    0.016216\n",
            "Improving my data analysis skills Ayiti Analytics Website male    0.005405\n",
            "                                  ESIH                    male    0.010811\n",
            "                                  Facebook                male    0.010811\n",
            "                                  Friend                  male    0.016216\n",
            "                                  LinkedIn                male    0.005405\n",
            "                                  WhatsApp                male    0.021622\n",
            "Mentorship                        Facebook                female  0.005405\n",
            "                                                          male    0.005405\n",
            "Switching careers                 Friend                  male    0.010811\n",
            "                                  Instagram               male    0.005405\n",
            "                                  LinkedIn                male    0.005405\n",
            "                                  WhatsApp                male    0.005405\n",
            "Training to start my own company  ESIH                    male    0.005405\n",
            "                                  Friend                  female  0.005405\n",
            "                                                          male    0.005405\n",
            "                                  LinkedIn                male    0.010811\n",
            "                                  WhatsApp                male    0.010811\n",
            "                                  other                   male    0.005405\n",
            "unknown                           unknown                 male    0.005405\n"
          ],
          "name": "stdout"
        }
      ]
    },
    {
      "cell_type": "code",
      "metadata": {
        "colab": {
          "base_uri": "https://localhost:8080/",
          "height": 793
        },
        "id": "DgNau7pHKpER",
        "outputId": "1e215ab7-eb6f-487f-bd68-7a753bec6cce"
      },
      "source": [
        "df6"
      ],
      "execution_count": null,
      "outputs": [
        {
          "output_type": "execute_result",
          "data": {
            "text/html": [
              "<div>\n",
              "<style scoped>\n",
              "    .dataframe tbody tr th:only-of-type {\n",
              "        vertical-align: middle;\n",
              "    }\n",
              "\n",
              "    .dataframe tbody tr th {\n",
              "        vertical-align: top;\n",
              "    }\n",
              "\n",
              "    .dataframe thead th {\n",
              "        text-align: right;\n",
              "    }\n",
              "</style>\n",
              "<table border=\"1\" class=\"dataframe\">\n",
              "  <thead>\n",
              "    <tr style=\"text-align: right;\">\n",
              "      <th></th>\n",
              "      <th></th>\n",
              "      <th></th>\n",
              "      <th>quest_id</th>\n",
              "    </tr>\n",
              "    <tr>\n",
              "      <th>Bootcamp Insterest</th>\n",
              "      <th>Communication channels</th>\n",
              "      <th>gender</th>\n",
              "      <th></th>\n",
              "    </tr>\n",
              "  </thead>\n",
              "  <tbody>\n",
              "    <tr>\n",
              "      <th rowspan=\"4\" valign=\"top\">Finding a job/internship</th>\n",
              "      <th rowspan=\"2\" valign=\"top\">Facebook</th>\n",
              "      <th>female</th>\n",
              "      <td>0.010811</td>\n",
              "    </tr>\n",
              "    <tr>\n",
              "      <th>male</th>\n",
              "      <td>0.005405</td>\n",
              "    </tr>\n",
              "    <tr>\n",
              "      <th>Friend</th>\n",
              "      <th>male</th>\n",
              "      <td>0.010811</td>\n",
              "    </tr>\n",
              "    <tr>\n",
              "      <th>WhatsApp</th>\n",
              "      <th>male</th>\n",
              "      <td>0.016216</td>\n",
              "    </tr>\n",
              "    <tr>\n",
              "      <th rowspan=\"6\" valign=\"top\">Improving my data analysis skills</th>\n",
              "      <th>Ayiti Analytics Website</th>\n",
              "      <th>male</th>\n",
              "      <td>0.005405</td>\n",
              "    </tr>\n",
              "    <tr>\n",
              "      <th>ESIH</th>\n",
              "      <th>male</th>\n",
              "      <td>0.010811</td>\n",
              "    </tr>\n",
              "    <tr>\n",
              "      <th>Facebook</th>\n",
              "      <th>male</th>\n",
              "      <td>0.010811</td>\n",
              "    </tr>\n",
              "    <tr>\n",
              "      <th>Friend</th>\n",
              "      <th>male</th>\n",
              "      <td>0.016216</td>\n",
              "    </tr>\n",
              "    <tr>\n",
              "      <th>LinkedIn</th>\n",
              "      <th>male</th>\n",
              "      <td>0.005405</td>\n",
              "    </tr>\n",
              "    <tr>\n",
              "      <th>WhatsApp</th>\n",
              "      <th>male</th>\n",
              "      <td>0.021622</td>\n",
              "    </tr>\n",
              "    <tr>\n",
              "      <th rowspan=\"2\" valign=\"top\">Mentorship</th>\n",
              "      <th rowspan=\"2\" valign=\"top\">Facebook</th>\n",
              "      <th>female</th>\n",
              "      <td>0.005405</td>\n",
              "    </tr>\n",
              "    <tr>\n",
              "      <th>male</th>\n",
              "      <td>0.005405</td>\n",
              "    </tr>\n",
              "    <tr>\n",
              "      <th rowspan=\"4\" valign=\"top\">Switching careers</th>\n",
              "      <th>Friend</th>\n",
              "      <th>male</th>\n",
              "      <td>0.010811</td>\n",
              "    </tr>\n",
              "    <tr>\n",
              "      <th>Instagram</th>\n",
              "      <th>male</th>\n",
              "      <td>0.005405</td>\n",
              "    </tr>\n",
              "    <tr>\n",
              "      <th>LinkedIn</th>\n",
              "      <th>male</th>\n",
              "      <td>0.005405</td>\n",
              "    </tr>\n",
              "    <tr>\n",
              "      <th>WhatsApp</th>\n",
              "      <th>male</th>\n",
              "      <td>0.005405</td>\n",
              "    </tr>\n",
              "    <tr>\n",
              "      <th rowspan=\"6\" valign=\"top\">Training to start my own company</th>\n",
              "      <th>ESIH</th>\n",
              "      <th>male</th>\n",
              "      <td>0.005405</td>\n",
              "    </tr>\n",
              "    <tr>\n",
              "      <th rowspan=\"2\" valign=\"top\">Friend</th>\n",
              "      <th>female</th>\n",
              "      <td>0.005405</td>\n",
              "    </tr>\n",
              "    <tr>\n",
              "      <th>male</th>\n",
              "      <td>0.005405</td>\n",
              "    </tr>\n",
              "    <tr>\n",
              "      <th>LinkedIn</th>\n",
              "      <th>male</th>\n",
              "      <td>0.010811</td>\n",
              "    </tr>\n",
              "    <tr>\n",
              "      <th>WhatsApp</th>\n",
              "      <th>male</th>\n",
              "      <td>0.010811</td>\n",
              "    </tr>\n",
              "    <tr>\n",
              "      <th>other</th>\n",
              "      <th>male</th>\n",
              "      <td>0.005405</td>\n",
              "    </tr>\n",
              "    <tr>\n",
              "      <th>unknown</th>\n",
              "      <th>unknown</th>\n",
              "      <th>male</th>\n",
              "      <td>0.005405</td>\n",
              "    </tr>\n",
              "  </tbody>\n",
              "</table>\n",
              "</div>"
            ],
            "text/plain": [
              "                                                                  quest_id\n",
              "Bootcamp Insterest                Communication channels  gender          \n",
              "Finding a job/internship          Facebook                female  0.010811\n",
              "                                                          male    0.005405\n",
              "                                  Friend                  male    0.010811\n",
              "                                  WhatsApp                male    0.016216\n",
              "Improving my data analysis skills Ayiti Analytics Website male    0.005405\n",
              "                                  ESIH                    male    0.010811\n",
              "                                  Facebook                male    0.010811\n",
              "                                  Friend                  male    0.016216\n",
              "                                  LinkedIn                male    0.005405\n",
              "                                  WhatsApp                male    0.021622\n",
              "Mentorship                        Facebook                female  0.005405\n",
              "                                                          male    0.005405\n",
              "Switching careers                 Friend                  male    0.010811\n",
              "                                  Instagram               male    0.005405\n",
              "                                  LinkedIn                male    0.005405\n",
              "                                  WhatsApp                male    0.005405\n",
              "Training to start my own company  ESIH                    male    0.005405\n",
              "                                  Friend                  female  0.005405\n",
              "                                                          male    0.005405\n",
              "                                  LinkedIn                male    0.010811\n",
              "                                  WhatsApp                male    0.010811\n",
              "                                  other                   male    0.005405\n",
              "unknown                           unknown                 male    0.005405"
            ]
          },
          "metadata": {
            "tags": []
          },
          "execution_count": 111
        }
      ]
    },
    {
      "cell_type": "markdown",
      "metadata": {
        "id": "4zFSfHYJLnIn"
      },
      "source": [
        "### 20 reduce \n",
        "* P(Payed=\"yes\"/Bootcamp Insterest=\"Increase Skill\",Communication channels=\"Friend\",Gender=\"male\")\n",
        "* P(Payed=\"no\"/Bootcamp Insterest=\"Increase Skill\",Communication channels=\"Friend\",Gender=\"male\")"
      ]
    },
    {
      "cell_type": "code",
      "metadata": {
        "id": "NkcEX3LfLnIo",
        "colab": {
          "base_uri": "https://localhost:8080/"
        },
        "outputId": "61998a1a-5e22-45e4-cfe5-1ce6251e51f5"
      },
      "source": [
        "# here your codes\n",
        "df7 =df4[(df4['Bootcamp Insterest'] == 'Improving my data analysis skills') & (df4['Communication channels'] =='Friend') & (df4['gender'] == 'male')]\n",
        "df8 = df7['Payed'].value_counts(normalize=1)\n",
        "df8.rename(index = {'Yes':'Male applicant who pays, wants to increase skills and invited by friends', 'No': \"Male applicant who doesn't pay, wants to increase skills and invited by friends\"}, inplace= True)\n",
        "df8"
      ],
      "execution_count": null,
      "outputs": [
        {
          "output_type": "execute_result",
          "data": {
            "text/plain": [
              "Male applicant who pays, wants to increase skills and invited by friends           0.823529\n",
              "Male applicant who doesn't pay, wants to increase skills and invited by friends    0.176471\n",
              "Name: Payed, dtype: float64"
            ]
          },
          "metadata": {
            "tags": []
          },
          "execution_count": 106
        }
      ]
    },
    {
      "cell_type": "markdown",
      "metadata": {
        "id": "YlhNHmbBLnIp"
      },
      "source": [
        "### Based on these findings, propose strategies to increase our sales?"
      ]
    },
    {
      "cell_type": "code",
      "metadata": {
        "id": "xgojhNwVLnIp"
      },
      "source": [
        "#here your codes"
      ],
      "execution_count": null,
      "outputs": []
    },
    {
      "cell_type": "markdown",
      "metadata": {
        "id": "pVZpeWniLnIq"
      },
      "source": [
        "One of the objectives of ayiti analytics is to increase their sales but also to be efficient in their services. if ayiti anlytics wants to be efficient in increasing the data analysis skills for their clients it would not be too difficult for them to increase their sales.\n",
        "First, we have seen that the means of communication to have more people are the channel friend and the channel whatsapp. so to reach more people to make them know his services, he will use these two channels without abandoning the other channels. because not only he will reach more people but also all the age groups necessary. Moreover, he will be able to use these two channels to make his own channel known, to visit it, to like it and to share it.\n",
        "Although we have noticed that the channel that has the most non-paying people is the friend channel, we cannot afford not to use it because it is the channel that has the most people paying. so let's use a lot more channel. Advertise the services to be offered by showing customers benefits they may be interested in, benefits they will not refuse. not to offer services that will not interest customers. Find out what they want, why they want to pursue a career in data science, what their motivations are.\n",
        "Then become more efficient in these requests, to satisfy customers as it should.\n",
        "If our services meet their expectations, and we are efficient, our sales will increase as we go."
      ]
    },
    {
      "cell_type": "code",
      "metadata": {
        "id": "tOKhf3CpSm3d"
      },
      "source": [
        ""
      ],
      "execution_count": null,
      "outputs": []
    }
  ]
}